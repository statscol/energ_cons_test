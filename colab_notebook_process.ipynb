{
  "nbformat": 4,
  "nbformat_minor": 0,
  "metadata": {
    "colab": {
      "name": "CaribeSol.ipynb",
      "provenance": [],
      "collapsed_sections": [],
      "toc_visible": true,
      "include_colab_link": true
    },
    "kernelspec": {
      "name": "python3",
      "display_name": "Python 3"
    }
  },
  "cells": [
    {
      "cell_type": "markdown",
      "metadata": {
        "id": "view-in-github",
        "colab_type": "text"
      },
      "source": [
        "<a href=\"https://colab.research.google.com/github/statscol/energ_cons_test/blob/master/colab_notebook_process.ipynb\" target=\"_parent\"><img src=\"https://colab.research.google.com/assets/colab-badge.svg\" alt=\"Open In Colab\"/></a>"
      ]
    },
    {
      "cell_type": "markdown",
      "metadata": {
        "id": "sl6V8A76li0M",
        "colab_type": "text"
      },
      "source": [
        "## Simulación Manar\n",
        "\n",
        "Plan piloto CaribeSol"
      ]
    },
    {
      "cell_type": "code",
      "metadata": {
        "id": "YjDgQ0nTlhz9",
        "colab_type": "code",
        "colab": {}
      },
      "source": [
        "import random\n",
        "import numpy as np\n",
        "import tensorflow as tf\n",
        "from sklearn.preprocessing import MinMaxScaler\n",
        "import pandas as pd\n",
        "import matplotlib.pyplot as plt\n",
        "import scipy \n",
        "import os\n",
        "import warnings\n",
        "%matplotlib inline"
      ],
      "execution_count": 1,
      "outputs": []
    },
    {
      "cell_type": "code",
      "metadata": {
        "id": "D-4eXxuqmr2L",
        "colab_type": "code",
        "colab": {
          "base_uri": "https://localhost:8080/",
          "height": 406
        },
        "outputId": "80951b8b-4ab7-4e80-845d-144eabcbc5bf"
      },
      "source": [
        "data=pd.read_csv(\"DBCaribeSol.txt\",sep=\"|\",decimal=\",\")\n",
        "print(data)"
      ],
      "execution_count": 3,
      "outputs": [
        {
          "output_type": "execute_result",
          "data": {
            "text/html": [
              "<div>\n",
              "<style scoped>\n",
              "    .dataframe tbody tr th:only-of-type {\n",
              "        vertical-align: middle;\n",
              "    }\n",
              "\n",
              "    .dataframe tbody tr th {\n",
              "        vertical-align: top;\n",
              "    }\n",
              "\n",
              "    .dataframe thead th {\n",
              "        text-align: right;\n",
              "    }\n",
              "</style>\n",
              "<table border=\"1\" class=\"dataframe\">\n",
              "  <thead>\n",
              "    <tr style=\"text-align: right;\">\n",
              "      <th></th>\n",
              "      <th>Servicio</th>\n",
              "      <th>Id_DesServicio</th>\n",
              "      <th>Id_Categoria</th>\n",
              "      <th>Id_SubCategoria</th>\n",
              "      <th>Localidad</th>\n",
              "      <th>Urbanidad1</th>\n",
              "      <th>Direccion</th>\n",
              "      <th>Estdcorte</th>\n",
              "      <th>UnidadesAnt1</th>\n",
              "      <th>ValorAnterior</th>\n",
              "    </tr>\n",
              "  </thead>\n",
              "  <tbody>\n",
              "    <tr>\n",
              "      <th>0</th>\n",
              "      <td>129079751</td>\n",
              "      <td>701 - ENERGÍA MDO REGULADO</td>\n",
              "      <td>1 - RESIDENCIAL</td>\n",
              "      <td>2 - ESTRATO 2</td>\n",
              "      <td>MEDELLÍN</td>\n",
              "      <td>NO</td>\n",
              "      <td>RURAL_119004850000000000_119004850000000000</td>\n",
              "      <td>1 - Conexion</td>\n",
              "      <td>1647.0</td>\n",
              "      <td>201361.96</td>\n",
              "    </tr>\n",
              "    <tr>\n",
              "      <th>1</th>\n",
              "      <td>110413914</td>\n",
              "      <td>701 - ENERGÍA MDO REGULADO</td>\n",
              "      <td>1 - RESIDENCIAL</td>\n",
              "      <td>4 - ESTRATO 4</td>\n",
              "      <td>MEDELLÍN</td>\n",
              "      <td>SI</td>\n",
              "      <td>CL 8 CR 84 F -25 (INTERIOR 1419 )</td>\n",
              "      <td>1 - Conexion</td>\n",
              "      <td>144.0</td>\n",
              "      <td>41137.92</td>\n",
              "    </tr>\n",
              "    <tr>\n",
              "      <th>2</th>\n",
              "      <td>90000290</td>\n",
              "      <td>701 - ENERGÍA MDO REGULADO</td>\n",
              "      <td>1 - RESIDENCIAL</td>\n",
              "      <td>5 - ESTRATO 5</td>\n",
              "      <td>MEDELLÍN</td>\n",
              "      <td>SI</td>\n",
              "      <td>CL 7 CR 80 -100 (INTERIOR 509 )</td>\n",
              "      <td>1 - Conexion</td>\n",
              "      <td>400.0</td>\n",
              "      <td>130118.08</td>\n",
              "    </tr>\n",
              "    <tr>\n",
              "      <th>3</th>\n",
              "      <td>90000407</td>\n",
              "      <td>701 - ENERGÍA MDO REGULADO</td>\n",
              "      <td>1 - RESIDENCIAL</td>\n",
              "      <td>5 - ESTRATO 5</td>\n",
              "      <td>MEDELLÍN</td>\n",
              "      <td>SI</td>\n",
              "      <td>CL 7 CR 80 -100 (INTERIOR 407 )</td>\n",
              "      <td>1 - Conexion</td>\n",
              "      <td>412.0</td>\n",
              "      <td>134227.07</td>\n",
              "    </tr>\n",
              "    <tr>\n",
              "      <th>4</th>\n",
              "      <td>90002377</td>\n",
              "      <td>701 - ENERGÍA MDO REGULADO</td>\n",
              "      <td>1 - RESIDENCIAL</td>\n",
              "      <td>2 - ESTRATO 2</td>\n",
              "      <td>MEDELLÍN</td>\n",
              "      <td>SI</td>\n",
              "      <td>CL 2 B CR 81 A -20 (INTERIOR 301 )</td>\n",
              "      <td>1 - Conexion</td>\n",
              "      <td>256.0</td>\n",
              "      <td>36761.30</td>\n",
              "    </tr>\n",
              "    <tr>\n",
              "      <th>...</th>\n",
              "      <td>...</td>\n",
              "      <td>...</td>\n",
              "      <td>...</td>\n",
              "      <td>...</td>\n",
              "      <td>...</td>\n",
              "      <td>...</td>\n",
              "      <td>...</td>\n",
              "      <td>...</td>\n",
              "      <td>...</td>\n",
              "      <td>...</td>\n",
              "    </tr>\n",
              "    <tr>\n",
              "      <th>9995</th>\n",
              "      <td>92255463</td>\n",
              "      <td>701 - ENERGÍA MDO REGULADO</td>\n",
              "      <td>1 - RESIDENCIAL</td>\n",
              "      <td>4 - ESTRATO 4</td>\n",
              "      <td>BELLO</td>\n",
              "      <td>SI</td>\n",
              "      <td>CL 23 CR 55 -83</td>\n",
              "      <td>1 - Conexion</td>\n",
              "      <td>652.0</td>\n",
              "      <td>186263.36</td>\n",
              "    </tr>\n",
              "    <tr>\n",
              "      <th>9996</th>\n",
              "      <td>92258762</td>\n",
              "      <td>701 - ENERGÍA MDO REGULADO</td>\n",
              "      <td>1 - RESIDENCIAL</td>\n",
              "      <td>3 - ESTRATO 3</td>\n",
              "      <td>BELLO</td>\n",
              "      <td>SI</td>\n",
              "      <td>CL 27 A CR 58 BB -99</td>\n",
              "      <td>1 - Conexion</td>\n",
              "      <td>238.0</td>\n",
              "      <td>57388.46</td>\n",
              "    </tr>\n",
              "    <tr>\n",
              "      <th>9997</th>\n",
              "      <td>92262422</td>\n",
              "      <td>701 - ENERGÍA MDO REGULADO</td>\n",
              "      <td>1 - RESIDENCIAL</td>\n",
              "      <td>3 - ESTRATO 3</td>\n",
              "      <td>BELLO</td>\n",
              "      <td>SI</td>\n",
              "      <td>CL 27 CR 58 BB -28</td>\n",
              "      <td>1 - Conexion</td>\n",
              "      <td>250.0</td>\n",
              "      <td>60282.00</td>\n",
              "    </tr>\n",
              "    <tr>\n",
              "      <th>9998</th>\n",
              "      <td>92259154</td>\n",
              "      <td>701 - ENERGÍA MDO REGULADO</td>\n",
              "      <td>1 - RESIDENCIAL</td>\n",
              "      <td>3 - ESTRATO 3</td>\n",
              "      <td>BELLO</td>\n",
              "      <td>SI</td>\n",
              "      <td>CL 27 A CR 58 BB -16</td>\n",
              "      <td>1 - Conexion</td>\n",
              "      <td>264.0</td>\n",
              "      <td>64962.72</td>\n",
              "    </tr>\n",
              "    <tr>\n",
              "      <th>9999</th>\n",
              "      <td>92258216</td>\n",
              "      <td>701 - ENERGÍA MDO REGULADO</td>\n",
              "      <td>1 - RESIDENCIAL</td>\n",
              "      <td>4 - ESTRATO 4</td>\n",
              "      <td>BELLO</td>\n",
              "      <td>SI</td>\n",
              "      <td>CL 27 B CR 50 A -74</td>\n",
              "      <td>1 - Conexion</td>\n",
              "      <td>502.0</td>\n",
              "      <td>143411.36</td>\n",
              "    </tr>\n",
              "  </tbody>\n",
              "</table>\n",
              "<p>10000 rows × 10 columns</p>\n",
              "</div>"
            ],
            "text/plain": [
              "       Servicio              Id_DesServicio  ... UnidadesAnt1 ValorAnterior\n",
              "0     129079751  701 - ENERGÍA MDO REGULADO  ...       1647.0     201361.96\n",
              "1     110413914  701 - ENERGÍA MDO REGULADO  ...        144.0      41137.92\n",
              "2      90000290  701 - ENERGÍA MDO REGULADO  ...        400.0     130118.08\n",
              "3      90000407  701 - ENERGÍA MDO REGULADO  ...        412.0     134227.07\n",
              "4      90002377  701 - ENERGÍA MDO REGULADO  ...        256.0      36761.30\n",
              "...         ...                         ...  ...          ...           ...\n",
              "9995   92255463  701 - ENERGÍA MDO REGULADO  ...        652.0     186263.36\n",
              "9996   92258762  701 - ENERGÍA MDO REGULADO  ...        238.0      57388.46\n",
              "9997   92262422  701 - ENERGÍA MDO REGULADO  ...        250.0      60282.00\n",
              "9998   92259154  701 - ENERGÍA MDO REGULADO  ...        264.0      64962.72\n",
              "9999   92258216  701 - ENERGÍA MDO REGULADO  ...        502.0     143411.36\n",
              "\n",
              "[10000 rows x 10 columns]"
            ]
          },
          "metadata": {
            "tags": []
          },
          "execution_count": 3
        }
      ]
    },
    {
      "cell_type": "markdown",
      "metadata": {
        "id": "AVqROuNNHYbh",
        "colab_type": "text"
      },
      "source": [
        "## Analizar Distribuciones de los Datos"
      ]
    },
    {
      "cell_type": "code",
      "metadata": {
        "id": "zeY_A71TGNOY",
        "colab_type": "code",
        "colab": {
          "base_uri": "https://localhost:8080/",
          "height": 342
        },
        "outputId": "3659bdb9-17e8-4919-c57f-096d6b019e25"
      },
      "source": [
        "import seaborn as sns\n",
        "sns.distplot(data.ValorAnterior.values,hist=False)"
      ],
      "execution_count": 4,
      "outputs": [
        {
          "output_type": "stream",
          "text": [
            "/usr/local/lib/python3.6/dist-packages/statsmodels/tools/_testing.py:19: FutureWarning: pandas.util.testing is deprecated. Use the functions in the public API at pandas.testing instead.\n",
            "  import pandas.util.testing as tm\n"
          ],
          "name": "stderr"
        },
        {
          "output_type": "execute_result",
          "data": {
            "text/plain": [
              "<matplotlib.axes._subplots.AxesSubplot at 0x7f03098b4438>"
            ]
          },
          "metadata": {
            "tags": []
          },
          "execution_count": 4
        },
        {
          "output_type": "display_data",
          "data": {
            "image/png": "[encoded data removed]",
            "text/plain": [
              "<Figure size 432x288 with 1 Axes>"
            ]
          },
          "metadata": {
            "tags": [],
            "needs_background": "light"
          }
        }
      ]
    },
    {
      "cell_type": "code",
      "metadata": {
        "id": "ndv_oc3uLjoA",
        "colab_type": "code",
        "colab": {
          "base_uri": "https://localhost:8080/",
          "height": 288
        },
        "outputId": "31ba8a30-1146-483c-e58a-611be4ba18c1"
      },
      "source": [
        "plt.hist(data.ValorAnterior.values, density=True, facecolor='r');"
      ],
      "execution_count": 5,
      "outputs": [
        {
          "output_type": "display_data",
          "data": {
            "image/png": "[encoded data removed]",
            "text/plain": [
              "<Figure size 432x288 with 1 Axes>"
            ]
          },
          "metadata": {
            "tags": [],
            "needs_background": "light"
          }
        }
      ]
    },
    {
      "cell_type": "markdown",
      "metadata": {
        "id": "hM66zl0jQdgw",
        "colab_type": "text"
      },
      "source": [
        "Beta Distribution\n",
        "\n",
        "μ=E[X]=α/α+β\n",
        " \n",
        "using the identity Γ(t+1)=tΓ(t). Similarly\n",
        "var=αβ/(α+β)**2(α+β+1)"
      ]
    },
    {
      "cell_type": "code",
      "metadata": {
        "id": "rQR5Xs7aSNOV",
        "colab_type": "code",
        "colab": {
          "base_uri": "https://localhost:8080/",
          "height": 34
        },
        "outputId": "aebf38c8-7c15-47e3-f4b6-dd8fb82d0ad8"
      },
      "source": [
        "\n",
        "variable = data.ValorAnterior.values\n",
        "\n",
        "mean, varianza  = scipy.stats.distributions.norm.fit(variable)\n",
        "\n",
        "from sympy import *\n",
        "a, b = symbols('a b',real=True)\n",
        "\n",
        "m=Eq(a/(a+b),mean)\n",
        "v=Eq(a*b*(a+b)**-2 *(a+b+1)**-1,varianza)\n",
        "sol = solve((m, v),(a, b))\n",
        "sol[0]"
      ],
      "execution_count": null,
      "outputs": [
        {
          "output_type": "execute_result",
          "data": {
            "text/plain": [
              "(-2031228234.86304, 2031206523.63916)"
            ]
          },
          "metadata": {
            "tags": []
          },
          "execution_count": 12
        }
      ]
    },
    {
      "cell_type": "code",
      "metadata": {
        "id": "f7H2uU0RmtlO",
        "colab_type": "code",
        "colab": {
          "base_uri": "https://localhost:8080/",
          "height": 633
        },
        "outputId": "bd4ce334-47a3-4347-c8ef-40510d1a16f9"
      },
      "source": [
        "#fitting distributions\n",
        "\n",
        "x = np.linspace(data.ValorAnterior.min(),data.ValorAnterior.max(),1000)\n",
        "\n",
        "fitted_data = scipy.stats.distributions.norm.pdf(x, mean, varianza)\n",
        "fitted_data_beta = scipy.stats.distributions.beta.pdf(x,0.1, 0.8)\n",
        "fitted_data_pois = scipy.stats.distributions.poisson.pmf(x,mean)\n",
        "\n",
        "plt.figure(figsize=(10,10));\n",
        "plt.hist(variable, density=True,bins=10)\n",
        "plt.plot(x,fitted_data,'r-',label=\"normal\")\n",
        "plt.plot(x,fitted_data_beta,'o',label=\"beta\")\n",
        "plt.plot(x,fitted_data_pois,'o',label=\"Poisson\")\n",
        "plt.legend(loc='upper right', frameon=False)"
      ],
      "execution_count": null,
      "outputs": [
        {
          "output_type": "execute_result",
          "data": {
            "text/plain": [
              "<matplotlib.legend.Legend at 0x7f58d05a8748>"
            ]
          },
          "metadata": {
            "tags": []
          },
          "execution_count": 13
        },
        {
          "output_type": "display_data",
          "data": {
            "image/png": "[encoded data removed]",
            "text/plain": [
              "<Figure size 720x720 with 1 Axes>"
            ]
          },
          "metadata": {
            "tags": [],
            "needs_background": "light"
          }
        }
      ]
    },
    {
      "cell_type": "markdown",
      "metadata": {
        "id": "wa38t4lwYd7u",
        "colab_type": "text"
      },
      "source": [
        "## Simulación de Data"
      ]
    },
    {
      "cell_type": "code",
      "metadata": {
        "id": "2uxTF7jnFHA0",
        "colab_type": "code",
        "colab": {
          "base_uri": "https://localhost:8080/",
          "height": 550
        },
        "outputId": "b59fdb3b-aa0a-4f4d-c8d9-52e877c2be14"
      },
      "source": [
        "## CREACIÓN DE DICCIONARIOS PARA SIMULAR DATA POR EL VALOR ESPERADO POR ESTRATO SOCIOECONÓMICO\n",
        "\n",
        "data_consumo=data.groupby('Id_SubCategoria').ValorAnterior.agg({'mean','median','min','max','std'})\n",
        "data_unidades=data.groupby('Id_SubCategoria').UnidadesAnt1.agg({'mean','median','min','max','std'})\n",
        "index_est=data_consumo.index\n",
        "dict_consumo=data_consumo.to_dict()\n",
        "dict_unidades=data_unidades.to_dict()\n",
        "dict_consumo"
      ],
      "execution_count": 6,
      "outputs": [
        {
          "output_type": "execute_result",
          "data": {
            "text/plain": [
              "{'max': {'1 - ESTRATO 1': 578351.64,\n",
              "  '11 - 220 Voltios.': 36618865.23,\n",
              "  '2 - ESTRATO 2': 963315.76,\n",
              "  '3 - ESTRATO 3': 1137273.12,\n",
              "  '4 - ESTRATO 4': 4588592.16,\n",
              "  '5 - ESTRATO 5': 1688764.0},\n",
              " 'mean': {'1 - ESTRATO 1': 32689.543984962445,\n",
              "  '11 - 220 Voltios.': 549704.9470642203,\n",
              "  '2 - ESTRATO 2': 39223.05610315173,\n",
              "  '3 - ESTRATO 3': 84589.32109803965,\n",
              "  '4 - ESTRATO 4': 101400.61254577915,\n",
              "  '5 - ESTRATO 5': 125837.50765625003},\n",
              " 'median': {'1 - ESTRATO 1': 20675.17,\n",
              "  '11 - 220 Voltios.': 180110.82,\n",
              "  '2 - ESTRATO 2': 27657.13,\n",
              "  '3 - ESTRATO 3': 73473.12,\n",
              "  '4 - ESTRATO 4': 85704.0,\n",
              "  '5 - ESTRATO 5': 109573.12},\n",
              " 'min': {'1 - ESTRATO 1': 0.0,\n",
              "  '11 - 220 Voltios.': 0.0,\n",
              "  '2 - ESTRATO 2': -21.33,\n",
              "  '3 - ESTRATO 3': 0.0,\n",
              "  '4 - ESTRATO 4': 0.0,\n",
              "  '5 - ESTRATO 5': 0.0},\n",
              " 'std': {'1 - ESTRATO 1': 45354.97387833887,\n",
              "  '11 - 220 Voltios.': 2131191.5776605858,\n",
              "  '2 - ESTRATO 2': 52182.56315923937,\n",
              "  '3 - ESTRATO 3': 60908.473752083366,\n",
              "  '4 - ESTRATO 4': 124655.74650453244,\n",
              "  '5 - ESTRATO 5': 94667.92674505584}}"
            ]
          },
          "metadata": {
            "tags": []
          },
          "execution_count": 6
        }
      ]
    },
    {
      "cell_type": "markdown",
      "metadata": {
        "id": "t_b30vIgRjws",
        "colab_type": "text"
      },
      "source": [
        "## Simulación de la información\n",
        "\n",
        "La idea es que a partir del comportamiento de la base de CaribeSol,  se construyan simulaciones de comportamiento histórico de consumo, conservando la estructura sociodemográfica.\n",
        "\n",
        "Dado que no se tienen registros históricos de personas que hayan dejado de pagar sus obligaciones de energía, se asume que los que dejarán de pagar son los que tienen un valor de pago mayor al percentil 75 del último consumo valor del consumo reportado en la base simulada."
      ]
    },
    {
      "cell_type": "code",
      "metadata": {
        "id": "3ujNIeWTBlGq",
        "colab_type": "code",
        "colab": {
          "base_uri": "https://localhost:8080/",
          "height": 233
        },
        "outputId": "5538799c-2912-4a26-d0b7-72b28da75bd4"
      },
      "source": [
        "from numpy.random import choice\n",
        "\n",
        "##COSTO POR KWH supuesto para cada estrato\n",
        "kwh_cost=dict({'1 - ESTRATO 1':[200,1],\n",
        "               '2 - ESTRATO 2':[200,2],\n",
        "               '3 - ESTRATO 3':[300,3],\n",
        "               '4 - ESTRATO 4':[400,4],\n",
        "               '5 - ESTRATO 5':[500,5],\n",
        "               '6 - ESTRATO 6':[500,6],\n",
        "               '11 - 220 Voltios.':[350,7]})\n",
        "\n",
        "###SIMULACIÓN DE LA DATA:\n",
        "def simula_cons_energy(N_SAMPLES=10000,p_pago=0.9):\n",
        "  \"\"\"N_SAMPLES: número de muestras aleatorias a generar\n",
        "    p_pago: probabilidad de que las personas paguen su última obligación\n",
        "  \"\"\"\n",
        "\n",
        "  p_pago=0.9\n",
        "  props_est = data.groupby('Id_SubCategoria')['Id_SubCategoria'].count()/data.shape[0]\n",
        "  props_loc= data.groupby('Localidad')['Localidad'].count()/data.shape[0]\n",
        "  LOCALIDAD=choice(props_loc.index.values, N_SAMPLES, p=props_loc.values)\n",
        "  ESTRATO=choice(props_est.index.values, N_SAMPLES, p=props_est.values)\n",
        "  UNIDADES=[np.random.default_rng().normal(dict_unidades['mean'][i],dict_unidades['std'][i], 1)[0] for i in ESTRATO]\n",
        "  med_cal=np.median(UNIDADES)\n",
        "  print(f\"Unidades de Consumo negativas se reemplazarán por {med_cal}\")\n",
        "  UNIDADES=np.where(np.array(UNIDADES)<=0,med_cal,UNIDADES)\n",
        "  VALOR_CONS=[UNIDADES[i]*kwh_cost[ESTRATO[i]][0] for i in range(N_SAMPLES)]\n",
        "  VALORDEF=np.quantile(VALOR_CONS,0.75)\n",
        "  print(f\"Considerando No pagos con valores de factura superiores a {VALORDEF}\")\n",
        "  NO_PAGO_ULTIMO=[0 if i<=VALORDEF else 1 for i in VALOR_CONS]\n",
        "  data_out=pd.DataFrame({'localidad':LOCALIDAD,'estrato':ESTRATO,'valor_ant':VALOR_CONS,'unidades_ant':UNIDADES,'no_pago_ultimo':NO_PAGO_ULTIMO})\n",
        "  return(data_out)\n",
        "\n",
        "data_out=simula_cons_energy(10000,0.9)\n",
        "data_out.head()"
      ],
      "execution_count": 113,
      "outputs": [
        {
          "output_type": "stream",
          "text": [
            "Unidades de Consumo negativas se reemplazarán por 311.44580404123866\n",
            "Considerando No pagos con valores de factura superiores a 146937.76166202073\n"
          ],
          "name": "stdout"
        },
        {
          "output_type": "execute_result",
          "data": {
            "text/html": [
              "<div>\n",
              "<style scoped>\n",
              "    .dataframe tbody tr th:only-of-type {\n",
              "        vertical-align: middle;\n",
              "    }\n",
              "\n",
              "    .dataframe tbody tr th {\n",
              "        vertical-align: top;\n",
              "    }\n",
              "\n",
              "    .dataframe thead th {\n",
              "        text-align: right;\n",
              "    }\n",
              "</style>\n",
              "<table border=\"1\" class=\"dataframe\">\n",
              "  <thead>\n",
              "    <tr style=\"text-align: right;\">\n",
              "      <th></th>\n",
              "      <th>localidad</th>\n",
              "      <th>estrato</th>\n",
              "      <th>valor_ant</th>\n",
              "      <th>unidades_ant</th>\n",
              "      <th>no_pago_ultimo</th>\n",
              "    </tr>\n",
              "  </thead>\n",
              "  <tbody>\n",
              "    <tr>\n",
              "      <th>0</th>\n",
              "      <td>MEDELLÍN</td>\n",
              "      <td>2 - ESTRATO 2</td>\n",
              "      <td>14016.000836</td>\n",
              "      <td>70.080004</td>\n",
              "      <td>0</td>\n",
              "    </tr>\n",
              "    <tr>\n",
              "      <th>1</th>\n",
              "      <td>MEDELLÍN</td>\n",
              "      <td>3 - ESTRATO 3</td>\n",
              "      <td>53070.067222</td>\n",
              "      <td>176.900224</td>\n",
              "      <td>0</td>\n",
              "    </tr>\n",
              "    <tr>\n",
              "      <th>2</th>\n",
              "      <td>MEDELLÍN</td>\n",
              "      <td>2 - ESTRATO 2</td>\n",
              "      <td>140605.209051</td>\n",
              "      <td>703.026045</td>\n",
              "      <td>0</td>\n",
              "    </tr>\n",
              "    <tr>\n",
              "      <th>3</th>\n",
              "      <td>MEDELLÍN</td>\n",
              "      <td>2 - ESTRATO 2</td>\n",
              "      <td>44092.128125</td>\n",
              "      <td>220.460641</td>\n",
              "      <td>0</td>\n",
              "    </tr>\n",
              "    <tr>\n",
              "      <th>4</th>\n",
              "      <td>MEDELLÍN</td>\n",
              "      <td>2 - ESTRATO 2</td>\n",
              "      <td>80038.243799</td>\n",
              "      <td>400.191219</td>\n",
              "      <td>0</td>\n",
              "    </tr>\n",
              "  </tbody>\n",
              "</table>\n",
              "</div>"
            ],
            "text/plain": [
              "  localidad        estrato      valor_ant  unidades_ant  no_pago_ultimo\n",
              "0  MEDELLÍN  2 - ESTRATO 2   14016.000836     70.080004               0\n",
              "1  MEDELLÍN  3 - ESTRATO 3   53070.067222    176.900224               0\n",
              "2  MEDELLÍN  2 - ESTRATO 2  140605.209051    703.026045               0\n",
              "3  MEDELLÍN  2 - ESTRATO 2   44092.128125    220.460641               0\n",
              "4  MEDELLÍN  2 - ESTRATO 2   80038.243799    400.191219               0"
            ]
          },
          "metadata": {
            "tags": []
          },
          "execution_count": 113
        }
      ]
    },
    {
      "cell_type": "code",
      "metadata": {
        "id": "NF9K2MNbzg5K",
        "colab_type": "code",
        "colab": {}
      },
      "source": [
        "### SIMULAR EL CONSUMO DE LOS ÚLTIMOS 12 MESES\n",
        "\n",
        "def cons_ultim_12(key_val,base_val):\n",
        "  values=[]\n",
        "  values.append(base_val)\n",
        "  [values.append(np.abs((dict_unidades['std'][key_val]*1.02*choice([-1,1],1,p=[0.5,0.5])[0])+values[i])) for i in range(12)]\n",
        "  return(values[::-1])\n",
        "  \n",
        "unidades_ultim_12=[cons_ultim_12(data_out.estrato.values[i],data_out.unidades_ant.values[i]) for i in range(len(data_out.estrato))];"
      ],
      "execution_count": 115,
      "outputs": []
    },
    {
      "cell_type": "code",
      "metadata": {
        "id": "TkiIVSvlDQtE",
        "colab_type": "code",
        "colab": {
          "base_uri": "https://localhost:8080/",
          "height": 406
        },
        "outputId": "2b65e759-c68c-43ae-b774-39e14f6ca30a"
      },
      "source": [
        "unidades_ultim_12=np.reshape(unidades_ultim_12,((-1,13)))\n",
        "unidades_ultim_12=pd.DataFrame(unidades_ultim_12,columns=[\"mes_t-\"+str(12-i) for i in range(13)])\n",
        "unidades_ultim_12"
      ],
      "execution_count": 116,
      "outputs": [
        {
          "output_type": "execute_result",
          "data": {
            "text/html": [
              "<div>\n",
              "<style scoped>\n",
              "    .dataframe tbody tr th:only-of-type {\n",
              "        vertical-align: middle;\n",
              "    }\n",
              "\n",
              "    .dataframe tbody tr th {\n",
              "        vertical-align: top;\n",
              "    }\n",
              "\n",
              "    .dataframe thead th {\n",
              "        text-align: right;\n",
              "    }\n",
              "</style>\n",
              "<table border=\"1\" class=\"dataframe\">\n",
              "  <thead>\n",
              "    <tr style=\"text-align: right;\">\n",
              "      <th></th>\n",
              "      <th>mes_t-12</th>\n",
              "      <th>mes_t-11</th>\n",
              "      <th>mes_t-10</th>\n",
              "      <th>mes_t-9</th>\n",
              "      <th>mes_t-8</th>\n",
              "      <th>mes_t-7</th>\n",
              "      <th>mes_t-6</th>\n",
              "      <th>mes_t-5</th>\n",
              "      <th>mes_t-4</th>\n",
              "      <th>mes_t-3</th>\n",
              "      <th>mes_t-2</th>\n",
              "      <th>mes_t-1</th>\n",
              "      <th>mes_t-0</th>\n",
              "    </tr>\n",
              "  </thead>\n",
              "  <tbody>\n",
              "    <tr>\n",
              "      <th>0</th>\n",
              "      <td>977.530364</td>\n",
              "      <td>715.627772</td>\n",
              "      <td>453.725180</td>\n",
              "      <td>715.627772</td>\n",
              "      <td>453.725180</td>\n",
              "      <td>191.822588</td>\n",
              "      <td>70.080004</td>\n",
              "      <td>331.982596</td>\n",
              "      <td>70.080004</td>\n",
              "      <td>331.982596</td>\n",
              "      <td>70.080004</td>\n",
              "      <td>191.822588</td>\n",
              "      <td>70.080004</td>\n",
              "    </tr>\n",
              "    <tr>\n",
              "      <th>1</th>\n",
              "      <td>176.900224</td>\n",
              "      <td>308.049417</td>\n",
              "      <td>176.900224</td>\n",
              "      <td>308.049417</td>\n",
              "      <td>439.198610</td>\n",
              "      <td>308.049417</td>\n",
              "      <td>439.198610</td>\n",
              "      <td>308.049417</td>\n",
              "      <td>176.900224</td>\n",
              "      <td>45.751031</td>\n",
              "      <td>176.900224</td>\n",
              "      <td>45.751031</td>\n",
              "      <td>176.900224</td>\n",
              "    </tr>\n",
              "    <tr>\n",
              "      <th>2</th>\n",
              "      <td>1226.831229</td>\n",
              "      <td>1488.733821</td>\n",
              "      <td>1226.831229</td>\n",
              "      <td>964.928637</td>\n",
              "      <td>1226.831229</td>\n",
              "      <td>1488.733821</td>\n",
              "      <td>1226.831229</td>\n",
              "      <td>1488.733821</td>\n",
              "      <td>1226.831229</td>\n",
              "      <td>964.928637</td>\n",
              "      <td>703.026045</td>\n",
              "      <td>441.123453</td>\n",
              "      <td>703.026045</td>\n",
              "    </tr>\n",
              "    <tr>\n",
              "      <th>3</th>\n",
              "      <td>220.460641</td>\n",
              "      <td>41.441951</td>\n",
              "      <td>303.344543</td>\n",
              "      <td>41.441951</td>\n",
              "      <td>303.344543</td>\n",
              "      <td>565.247135</td>\n",
              "      <td>303.344543</td>\n",
              "      <td>41.441951</td>\n",
              "      <td>303.344543</td>\n",
              "      <td>41.441951</td>\n",
              "      <td>220.460641</td>\n",
              "      <td>41.441951</td>\n",
              "      <td>220.460641</td>\n",
              "    </tr>\n",
              "    <tr>\n",
              "      <th>4</th>\n",
              "      <td>2495.411955</td>\n",
              "      <td>2233.509363</td>\n",
              "      <td>2495.411955</td>\n",
              "      <td>2233.509363</td>\n",
              "      <td>1971.606771</td>\n",
              "      <td>1709.704179</td>\n",
              "      <td>1447.801587</td>\n",
              "      <td>1185.898995</td>\n",
              "      <td>1447.801587</td>\n",
              "      <td>1185.898995</td>\n",
              "      <td>923.996403</td>\n",
              "      <td>662.093811</td>\n",
              "      <td>400.191219</td>\n",
              "    </tr>\n",
              "    <tr>\n",
              "      <th>...</th>\n",
              "      <td>...</td>\n",
              "      <td>...</td>\n",
              "      <td>...</td>\n",
              "      <td>...</td>\n",
              "      <td>...</td>\n",
              "      <td>...</td>\n",
              "      <td>...</td>\n",
              "      <td>...</td>\n",
              "      <td>...</td>\n",
              "      <td>...</td>\n",
              "      <td>...</td>\n",
              "      <td>...</td>\n",
              "      <td>...</td>\n",
              "    </tr>\n",
              "    <tr>\n",
              "      <th>9995</th>\n",
              "      <td>293.575312</td>\n",
              "      <td>162.426119</td>\n",
              "      <td>31.276926</td>\n",
              "      <td>99.872267</td>\n",
              "      <td>31.276926</td>\n",
              "      <td>162.426119</td>\n",
              "      <td>31.276926</td>\n",
              "      <td>162.426119</td>\n",
              "      <td>293.575312</td>\n",
              "      <td>162.426119</td>\n",
              "      <td>31.276926</td>\n",
              "      <td>162.426119</td>\n",
              "      <td>293.575312</td>\n",
              "    </tr>\n",
              "    <tr>\n",
              "      <th>9996</th>\n",
              "      <td>910.385196</td>\n",
              "      <td>591.915460</td>\n",
              "      <td>910.385196</td>\n",
              "      <td>591.915460</td>\n",
              "      <td>273.445725</td>\n",
              "      <td>591.915460</td>\n",
              "      <td>273.445725</td>\n",
              "      <td>591.915460</td>\n",
              "      <td>273.445725</td>\n",
              "      <td>45.024011</td>\n",
              "      <td>363.493746</td>\n",
              "      <td>681.963482</td>\n",
              "      <td>363.493746</td>\n",
              "    </tr>\n",
              "    <tr>\n",
              "      <th>9997</th>\n",
              "      <td>1886.936177</td>\n",
              "      <td>2338.124634</td>\n",
              "      <td>1886.936177</td>\n",
              "      <td>1435.747720</td>\n",
              "      <td>984.559263</td>\n",
              "      <td>533.370805</td>\n",
              "      <td>82.182348</td>\n",
              "      <td>369.006109</td>\n",
              "      <td>82.182348</td>\n",
              "      <td>369.006109</td>\n",
              "      <td>820.194566</td>\n",
              "      <td>1271.383024</td>\n",
              "      <td>820.194566</td>\n",
              "    </tr>\n",
              "    <tr>\n",
              "      <th>9998</th>\n",
              "      <td>1161.489668</td>\n",
              "      <td>899.587076</td>\n",
              "      <td>637.684483</td>\n",
              "      <td>375.781891</td>\n",
              "      <td>113.879299</td>\n",
              "      <td>148.023293</td>\n",
              "      <td>113.879299</td>\n",
              "      <td>148.023293</td>\n",
              "      <td>409.925885</td>\n",
              "      <td>671.828477</td>\n",
              "      <td>409.925885</td>\n",
              "      <td>148.023293</td>\n",
              "      <td>409.925885</td>\n",
              "    </tr>\n",
              "    <tr>\n",
              "      <th>9999</th>\n",
              "      <td>1018.344771</td>\n",
              "      <td>1149.493964</td>\n",
              "      <td>1018.344771</td>\n",
              "      <td>1149.493964</td>\n",
              "      <td>1018.344771</td>\n",
              "      <td>887.195578</td>\n",
              "      <td>756.046384</td>\n",
              "      <td>624.897191</td>\n",
              "      <td>493.747998</td>\n",
              "      <td>624.897191</td>\n",
              "      <td>493.747998</td>\n",
              "      <td>362.598805</td>\n",
              "      <td>493.747998</td>\n",
              "    </tr>\n",
              "  </tbody>\n",
              "</table>\n",
              "<p>10000 rows × 13 columns</p>\n",
              "</div>"
            ],
            "text/plain": [
              "         mes_t-12     mes_t-11  ...      mes_t-1     mes_t-0\n",
              "0      977.530364   715.627772  ...   191.822588   70.080004\n",
              "1      176.900224   308.049417  ...    45.751031  176.900224\n",
              "2     1226.831229  1488.733821  ...   441.123453  703.026045\n",
              "3      220.460641    41.441951  ...    41.441951  220.460641\n",
              "4     2495.411955  2233.509363  ...   662.093811  400.191219\n",
              "...           ...          ...  ...          ...         ...\n",
              "9995   293.575312   162.426119  ...   162.426119  293.575312\n",
              "9996   910.385196   591.915460  ...   681.963482  363.493746\n",
              "9997  1886.936177  2338.124634  ...  1271.383024  820.194566\n",
              "9998  1161.489668   899.587076  ...   148.023293  409.925885\n",
              "9999  1018.344771  1149.493964  ...   362.598805  493.747998\n",
              "\n",
              "[10000 rows x 13 columns]"
            ]
          },
          "metadata": {
            "tags": []
          },
          "execution_count": 116
        }
      ]
    },
    {
      "cell_type": "markdown",
      "metadata": {
        "id": "z7PB67xc4P6S",
        "colab_type": "text"
      },
      "source": [
        "## Generando Clustering de Usuarios\n",
        "\n",
        "GMM (EM Algorithm)\n"
      ]
    },
    {
      "cell_type": "code",
      "metadata": {
        "id": "KSLjIEbNE5zd",
        "colab_type": "code",
        "colab": {
          "base_uri": "https://localhost:8080/",
          "height": 301
        },
        "outputId": "65745b73-0a9b-4c78-cfaf-925d54361c60"
      },
      "source": [
        "##LIBRARY FOR MCA ANALYSIS\n",
        "!pip install prince"
      ],
      "execution_count": 21,
      "outputs": [
        {
          "output_type": "stream",
          "text": [
            "Collecting prince\n",
            "  Downloading https://files.pythonhosted.org/packages/51/f4/8de7003b86351a0e32e29ca2bbbbbf58e311b09f9286e83e638d437aee6d/prince-0.7.0-py3-none-any.whl\n",
            "Requirement already satisfied: scipy>=1.3.0 in /usr/local/lib/python3.6/dist-packages (from prince) (1.4.1)\n",
            "Requirement already satisfied: scikit-learn>=0.22.1 in /usr/local/lib/python3.6/dist-packages (from prince) (0.22.2.post1)\n",
            "Requirement already satisfied: matplotlib>=3.0.2 in /usr/local/lib/python3.6/dist-packages (from prince) (3.2.2)\n",
            "Requirement already satisfied: pandas>=1.0.3 in /usr/local/lib/python3.6/dist-packages (from prince) (1.0.5)\n",
            "Requirement already satisfied: numpy>=1.17.1 in /usr/local/lib/python3.6/dist-packages (from prince) (1.18.5)\n",
            "Requirement already satisfied: joblib>=0.11 in /usr/local/lib/python3.6/dist-packages (from scikit-learn>=0.22.1->prince) (0.16.0)\n",
            "Requirement already satisfied: kiwisolver>=1.0.1 in /usr/local/lib/python3.6/dist-packages (from matplotlib>=3.0.2->prince) (1.2.0)\n",
            "Requirement already satisfied: pyparsing!=2.0.4,!=2.1.2,!=2.1.6,>=2.0.1 in /usr/local/lib/python3.6/dist-packages (from matplotlib>=3.0.2->prince) (2.4.7)\n",
            "Requirement already satisfied: cycler>=0.10 in /usr/local/lib/python3.6/dist-packages (from matplotlib>=3.0.2->prince) (0.10.0)\n",
            "Requirement already satisfied: python-dateutil>=2.1 in /usr/local/lib/python3.6/dist-packages (from matplotlib>=3.0.2->prince) (2.8.1)\n",
            "Requirement already satisfied: pytz>=2017.2 in /usr/local/lib/python3.6/dist-packages (from pandas>=1.0.3->prince) (2018.9)\n",
            "Requirement already satisfied: six in /usr/local/lib/python3.6/dist-packages (from cycler>=0.10->matplotlib>=3.0.2->prince) (1.15.0)\n",
            "Installing collected packages: prince\n",
            "Successfully installed prince-0.7.0\n"
          ],
          "name": "stdout"
        }
      ]
    },
    {
      "cell_type": "code",
      "metadata": {
        "id": "GROtu5QtvjMF",
        "colab_type": "code",
        "colab": {
          "base_uri": "https://localhost:8080/",
          "height": 87
        },
        "outputId": "61ff9839-31a1-48ca-ff2e-99cea7029405"
      },
      "source": [
        "# training gaussian mixture model \n",
        "from sklearn.mixture import GaussianMixture\n",
        "from sklearn.preprocessing import MinMaxScaler,StandardScaler\n",
        "import seaborn as sns\n",
        "#pip install prince\n",
        "import prince as pr ##por MCA\n",
        "\n",
        "\n",
        "## modificar estrato a valor numérico.\n",
        "data_out['estrato']=data_out['estrato'].apply(lambda x: kwh_cost[x][1])\n",
        "data_aux=data_out[['estrato','localidad','valor_ant']].copy()\n",
        "data_aux.valor_ant=[(i-np.min(data_aux.valor_ant))/(np.max(data_aux.valor_ant)-np.min(data_aux.valor_ant)) for i in data_aux.valor_ant]\n",
        "mca=pr.MCA(n_components=-1).fit_transform(data_aux.values)\n",
        "gmm = GaussianMixture(n_components=4)\n",
        "gmm.fit(mca)\n",
        "\n"
      ],
      "execution_count": 117,
      "outputs": [
        {
          "output_type": "execute_result",
          "data": {
            "text/plain": [
              "GaussianMixture(covariance_type='full', init_params='kmeans', max_iter=100,\n",
              "                means_init=None, n_components=4, n_init=1, precisions_init=None,\n",
              "                random_state=None, reg_covar=1e-06, tol=0.001, verbose=0,\n",
              "                verbose_interval=10, warm_start=False, weights_init=None)"
            ]
          },
          "metadata": {
            "tags": []
          },
          "execution_count": 117
        }
      ]
    },
    {
      "cell_type": "code",
      "metadata": {
        "id": "VVnRSo23L7z7",
        "colab_type": "code",
        "colab": {
          "base_uri": "https://localhost:8080/",
          "height": 406
        },
        "outputId": "d3859b25-a8ed-4664-aa28-a2be8274995f"
      },
      "source": [
        "#predictions from gmm\n",
        "labels = gmm.predict(mca)\n",
        "mca"
      ],
      "execution_count": 118,
      "outputs": [
        {
          "output_type": "execute_result",
          "data": {
            "text/html": [
              "<div>\n",
              "<style scoped>\n",
              "    .dataframe tbody tr th:only-of-type {\n",
              "        vertical-align: middle;\n",
              "    }\n",
              "\n",
              "    .dataframe tbody tr th {\n",
              "        vertical-align: top;\n",
              "    }\n",
              "\n",
              "    .dataframe thead th {\n",
              "        text-align: right;\n",
              "    }\n",
              "</style>\n",
              "<table border=\"1\" class=\"dataframe\">\n",
              "  <thead>\n",
              "    <tr style=\"text-align: right;\">\n",
              "      <th></th>\n",
              "      <th>0</th>\n",
              "      <th>1</th>\n",
              "      <th>2</th>\n",
              "      <th>3</th>\n",
              "      <th>4</th>\n",
              "      <th>5</th>\n",
              "      <th>6</th>\n",
              "      <th>7</th>\n",
              "    </tr>\n",
              "  </thead>\n",
              "  <tbody>\n",
              "    <tr>\n",
              "      <th>0</th>\n",
              "      <td>-1.040558</td>\n",
              "      <td>-0.152133</td>\n",
              "      <td>0.797155</td>\n",
              "      <td>0.355735</td>\n",
              "      <td>-1.075237</td>\n",
              "      <td>-0.160481</td>\n",
              "      <td>0.733879</td>\n",
              "      <td>0.402045</td>\n",
              "    </tr>\n",
              "    <tr>\n",
              "      <th>1</th>\n",
              "      <td>-0.527511</td>\n",
              "      <td>-0.050120</td>\n",
              "      <td>-0.798328</td>\n",
              "      <td>-0.863049</td>\n",
              "      <td>-0.056832</td>\n",
              "      <td>-0.510321</td>\n",
              "      <td>-0.495030</td>\n",
              "      <td>0.306756</td>\n",
              "    </tr>\n",
              "    <tr>\n",
              "      <th>2</th>\n",
              "      <td>-1.026085</td>\n",
              "      <td>-0.159442</td>\n",
              "      <td>0.769412</td>\n",
              "      <td>0.356704</td>\n",
              "      <td>-1.084598</td>\n",
              "      <td>-0.221607</td>\n",
              "      <td>-0.069182</td>\n",
              "      <td>0.055891</td>\n",
              "    </tr>\n",
              "    <tr>\n",
              "      <th>3</th>\n",
              "      <td>-1.023528</td>\n",
              "      <td>-0.151525</td>\n",
              "      <td>0.797981</td>\n",
              "      <td>0.331832</td>\n",
              "      <td>-1.100342</td>\n",
              "      <td>-0.160570</td>\n",
              "      <td>-1.163489</td>\n",
              "      <td>0.821836</td>\n",
              "    </tr>\n",
              "    <tr>\n",
              "      <th>4</th>\n",
              "      <td>-1.030997</td>\n",
              "      <td>-0.155504</td>\n",
              "      <td>0.795826</td>\n",
              "      <td>0.317543</td>\n",
              "      <td>-1.062400</td>\n",
              "      <td>-0.160459</td>\n",
              "      <td>-0.621003</td>\n",
              "      <td>-0.574100</td>\n",
              "    </tr>\n",
              "    <tr>\n",
              "      <th>...</th>\n",
              "      <td>...</td>\n",
              "      <td>...</td>\n",
              "      <td>...</td>\n",
              "      <td>...</td>\n",
              "      <td>...</td>\n",
              "      <td>...</td>\n",
              "      <td>...</td>\n",
              "      <td>...</td>\n",
              "    </tr>\n",
              "    <tr>\n",
              "      <th>9995</th>\n",
              "      <td>-0.492242</td>\n",
              "      <td>-0.046042</td>\n",
              "      <td>-0.816140</td>\n",
              "      <td>-0.843481</td>\n",
              "      <td>-0.090510</td>\n",
              "      <td>-0.531235</td>\n",
              "      <td>-0.694407</td>\n",
              "      <td>0.163518</td>\n",
              "    </tr>\n",
              "    <tr>\n",
              "      <th>9996</th>\n",
              "      <td>1.755519</td>\n",
              "      <td>0.263193</td>\n",
              "      <td>1.212653</td>\n",
              "      <td>-0.911800</td>\n",
              "      <td>0.040848</td>\n",
              "      <td>0.570220</td>\n",
              "      <td>-0.353671</td>\n",
              "      <td>0.534822</td>\n",
              "    </tr>\n",
              "    <tr>\n",
              "      <th>9997</th>\n",
              "      <td>0.542927</td>\n",
              "      <td>-0.459759</td>\n",
              "      <td>-0.590634</td>\n",
              "      <td>1.055764</td>\n",
              "      <td>-0.213742</td>\n",
              "      <td>-0.871223</td>\n",
              "      <td>-0.996302</td>\n",
              "      <td>0.177968</td>\n",
              "    </tr>\n",
              "    <tr>\n",
              "      <th>9998</th>\n",
              "      <td>-0.521922</td>\n",
              "      <td>-0.158855</td>\n",
              "      <td>0.763154</td>\n",
              "      <td>0.340297</td>\n",
              "      <td>-0.765022</td>\n",
              "      <td>1.444905</td>\n",
              "      <td>-0.299970</td>\n",
              "      <td>-0.419711</td>\n",
              "    </tr>\n",
              "    <tr>\n",
              "      <th>9999</th>\n",
              "      <td>0.003150</td>\n",
              "      <td>-0.044847</td>\n",
              "      <td>-0.834898</td>\n",
              "      <td>-0.863534</td>\n",
              "      <td>0.233369</td>\n",
              "      <td>1.099093</td>\n",
              "      <td>-0.798892</td>\n",
              "      <td>-1.118519</td>\n",
              "    </tr>\n",
              "  </tbody>\n",
              "</table>\n",
              "<p>10000 rows × 8 columns</p>\n",
              "</div>"
            ],
            "text/plain": [
              "             0         1         2  ...         5         6         7\n",
              "0    -1.040558 -0.152133  0.797155  ... -0.160481  0.733879  0.402045\n",
              "1    -0.527511 -0.050120 -0.798328  ... -0.510321 -0.495030  0.306756\n",
              "2    -1.026085 -0.159442  0.769412  ... -0.221607 -0.069182  0.055891\n",
              "3    -1.023528 -0.151525  0.797981  ... -0.160570 -1.163489  0.821836\n",
              "4    -1.030997 -0.155504  0.795826  ... -0.160459 -0.621003 -0.574100\n",
              "...        ...       ...       ...  ...       ...       ...       ...\n",
              "9995 -0.492242 -0.046042 -0.816140  ... -0.531235 -0.694407  0.163518\n",
              "9996  1.755519  0.263193  1.212653  ...  0.570220 -0.353671  0.534822\n",
              "9997  0.542927 -0.459759 -0.590634  ... -0.871223 -0.996302  0.177968\n",
              "9998 -0.521922 -0.158855  0.763154  ...  1.444905 -0.299970 -0.419711\n",
              "9999  0.003150 -0.044847 -0.834898  ...  1.099093 -0.798892 -1.118519\n",
              "\n",
              "[10000 rows x 8 columns]"
            ]
          },
          "metadata": {
            "tags": []
          },
          "execution_count": 118
        }
      ]
    },
    {
      "cell_type": "code",
      "metadata": {
        "id": "RMFAxrC6RXHU",
        "colab_type": "code",
        "colab": {
          "base_uri": "https://localhost:8080/",
          "height": 610
        },
        "outputId": "7e4cb2c0-531d-4138-b728-27719b271219"
      },
      "source": [
        "data_clust=pd.DataFrame(mca.values,columns=[\"dim \"+str(i) for i in range(mca.shape[1])])\n",
        "data_clust['cluster']=labels\n",
        "\n",
        "f,ax=plt.subplots(figsize=(10,10))\n",
        "ax.scatter(data_clust['dim 0'],data_clust['dim 1'],c=data_clust['cluster'])\n",
        "\n"
      ],
      "execution_count": 119,
      "outputs": [
        {
          "output_type": "execute_result",
          "data": {
            "text/plain": [
              "<matplotlib.collections.PathCollection at 0x7f02e53a5f28>"
            ]
          },
          "metadata": {
            "tags": []
          },
          "execution_count": 119
        },
        {
          "output_type": "display_data",
          "data": {
            "image/png": "[encoded data removed]",
            "text/plain": [
              "<Figure size 720x720 with 1 Axes>"
            ]
          },
          "metadata": {
            "tags": [],
            "needs_background": "light"
          }
        }
      ]
    },
    {
      "cell_type": "markdown",
      "metadata": {
        "id": "p8ltSu3P4Q9V",
        "colab_type": "text"
      },
      "source": [
        "## Modelo Predictivo Pago\n",
        "## Involucrar fuentes externas : desempleo\n"
      ]
    },
    {
      "cell_type": "code",
      "metadata": {
        "id": "sVYycpwYvY5T",
        "colab_type": "code",
        "colab": {
          "base_uri": "https://localhost:8080/",
          "height": 197
        },
        "outputId": "495ce538-30aa-4111-f290-247d49d28b9b"
      },
      "source": [
        "desempleo=pd.read_excel(\"desempleo.xlsx\",skiprows=8)\n",
        "### get last 36 months \n",
        "desempleo=desempleo.iloc[0:36,0:2]\n",
        "desempleo.head()"
      ],
      "execution_count": null,
      "outputs": [
        {
          "output_type": "execute_result",
          "data": {
            "text/html": [
              "<div>\n",
              "<style scoped>\n",
              "    .dataframe tbody tr th:only-of-type {\n",
              "        vertical-align: middle;\n",
              "    }\n",
              "\n",
              "    .dataframe tbody tr th {\n",
              "        vertical-align: top;\n",
              "    }\n",
              "\n",
              "    .dataframe thead th {\n",
              "        text-align: right;\n",
              "    }\n",
              "</style>\n",
              "<table border=\"1\" class=\"dataframe\">\n",
              "  <thead>\n",
              "    <tr style=\"text-align: right;\">\n",
              "      <th></th>\n",
              "      <th>Año(aaaa)-Mes(mm)</th>\n",
              "      <th>Tasa de empleo (%)</th>\n",
              "    </tr>\n",
              "  </thead>\n",
              "  <tbody>\n",
              "    <tr>\n",
              "      <th>0</th>\n",
              "      <td>2020-06</td>\n",
              "      <td>46.052214</td>\n",
              "    </tr>\n",
              "    <tr>\n",
              "      <th>1</th>\n",
              "      <td>2020-05</td>\n",
              "      <td>43.380810</td>\n",
              "    </tr>\n",
              "    <tr>\n",
              "      <th>2</th>\n",
              "      <td>2020-04</td>\n",
              "      <td>41.570360</td>\n",
              "    </tr>\n",
              "    <tr>\n",
              "      <th>3</th>\n",
              "      <td>2020-03</td>\n",
              "      <td>51.702287</td>\n",
              "    </tr>\n",
              "    <tr>\n",
              "      <th>4</th>\n",
              "      <td>2020-02</td>\n",
              "      <td>55.475531</td>\n",
              "    </tr>\n",
              "  </tbody>\n",
              "</table>\n",
              "</div>"
            ],
            "text/plain": [
              "  Año(aaaa)-Mes(mm)  Tasa de empleo (%)\n",
              "0           2020-06           46.052214\n",
              "1           2020-05           43.380810\n",
              "2           2020-04           41.570360\n",
              "3           2020-03           51.702287\n",
              "4           2020-02           55.475531"
            ]
          },
          "metadata": {
            "tags": []
          },
          "execution_count": 289
        }
      ]
    },
    {
      "cell_type": "code",
      "metadata": {
        "id": "ieW5qBCkSoIE",
        "colab_type": "code",
        "colab": {}
      },
      "source": [
        "##reshape data and generate training/test set\n",
        "from sklearn.metrics import precision_score,recall_score,cohen_kappa_score,f1_score,accuracy_score\n",
        "\n",
        "### función para medir desempeño\n",
        "\n",
        "def metrics(real,pred):\n",
        "  kappa=cohen_kappa_score(real,pred)\n",
        "  acc=accuracy_score(real,pred)\n",
        "  f1=f1_score(real,pred)\n",
        "  prec=precision_score(real,pred)\n",
        "  recall=recall_score(real,pred)\n",
        "\n",
        "  print (f\" Accuracy:{acc:.4f} \\n Precision: {prec:.4f} \\n Recall: {recall:.4f} \\n Kappa: {kappa:.4f} \\n F1-Score: {f1:.4f} \")\n",
        "\n",
        "##standardize by day (not by column)\n",
        "def std_day(x,rang=13):\n",
        "  \"\"\"x: INPUT AS A NUMPY ARRAY \n",
        "    rang: columna hasta la cual de desea estandarizar\n",
        "  \"\"\"\n",
        "  daily_data_Train=x[:,range(rang)].T\n",
        "  scaled_features =StandardScaler()\n",
        "  daily_dataSTD_Train=scaled_features.fit_transform(daily_data_Train).T\n",
        "  return (daily_dataSTD_Train)\n",
        "\n",
        "#X=X.reshape((-1,13,1))\n",
        "\n",
        "X=unidades_ultim_12.values\n",
        "\n",
        "X=std_day(X)\n",
        "y=data_out.no_pago_ultimo.values\n"
      ],
      "execution_count": 154,
      "outputs": []
    },
    {
      "cell_type": "markdown",
      "metadata": {
        "id": "PzeZObOgyLJT",
        "colab_type": "text"
      },
      "source": [
        "Codificación de variables categóricas"
      ]
    },
    {
      "cell_type": "code",
      "metadata": {
        "id": "bAqtpIncYUTi",
        "colab_type": "code",
        "colab": {
          "base_uri": "https://localhost:8080/",
          "height": 197
        },
        "outputId": "5be3f0df-bfe3-4f2d-eb23-f6f8768c138b"
      },
      "source": [
        "###encode localidad\n",
        "from sklearn.preprocessing import LabelEncoder\n",
        "le=LabelEncoder()\n",
        "loc_enc=le.fit_transform(data_out.localidad)\n",
        "data_out.loc[:,'localidad']=loc_enc\n",
        "data_out.head()"
      ],
      "execution_count": 121,
      "outputs": [
        {
          "output_type": "execute_result",
          "data": {
            "text/html": [
              "<div>\n",
              "<style scoped>\n",
              "    .dataframe tbody tr th:only-of-type {\n",
              "        vertical-align: middle;\n",
              "    }\n",
              "\n",
              "    .dataframe tbody tr th {\n",
              "        vertical-align: top;\n",
              "    }\n",
              "\n",
              "    .dataframe thead th {\n",
              "        text-align: right;\n",
              "    }\n",
              "</style>\n",
              "<table border=\"1\" class=\"dataframe\">\n",
              "  <thead>\n",
              "    <tr style=\"text-align: right;\">\n",
              "      <th></th>\n",
              "      <th>localidad</th>\n",
              "      <th>estrato</th>\n",
              "      <th>valor_ant</th>\n",
              "      <th>unidades_ant</th>\n",
              "      <th>no_pago_ultimo</th>\n",
              "    </tr>\n",
              "  </thead>\n",
              "  <tbody>\n",
              "    <tr>\n",
              "      <th>0</th>\n",
              "      <td>1</td>\n",
              "      <td>2</td>\n",
              "      <td>14016.000836</td>\n",
              "      <td>70.080004</td>\n",
              "      <td>0</td>\n",
              "    </tr>\n",
              "    <tr>\n",
              "      <th>1</th>\n",
              "      <td>1</td>\n",
              "      <td>3</td>\n",
              "      <td>53070.067222</td>\n",
              "      <td>176.900224</td>\n",
              "      <td>0</td>\n",
              "    </tr>\n",
              "    <tr>\n",
              "      <th>2</th>\n",
              "      <td>1</td>\n",
              "      <td>2</td>\n",
              "      <td>140605.209051</td>\n",
              "      <td>703.026045</td>\n",
              "      <td>0</td>\n",
              "    </tr>\n",
              "    <tr>\n",
              "      <th>3</th>\n",
              "      <td>1</td>\n",
              "      <td>2</td>\n",
              "      <td>44092.128125</td>\n",
              "      <td>220.460641</td>\n",
              "      <td>0</td>\n",
              "    </tr>\n",
              "    <tr>\n",
              "      <th>4</th>\n",
              "      <td>1</td>\n",
              "      <td>2</td>\n",
              "      <td>80038.243799</td>\n",
              "      <td>400.191219</td>\n",
              "      <td>0</td>\n",
              "    </tr>\n",
              "  </tbody>\n",
              "</table>\n",
              "</div>"
            ],
            "text/plain": [
              "   localidad  estrato      valor_ant  unidades_ant  no_pago_ultimo\n",
              "0          1        2   14016.000836     70.080004               0\n",
              "1          1        3   53070.067222    176.900224               0\n",
              "2          1        2  140605.209051    703.026045               0\n",
              "3          1        2   44092.128125    220.460641               0\n",
              "4          1        2   80038.243799    400.191219               0"
            ]
          },
          "metadata": {
            "tags": []
          },
          "execution_count": 121
        }
      ]
    },
    {
      "cell_type": "code",
      "metadata": {
        "id": "-3VVoJ75mWEf",
        "colab_type": "code",
        "colab": {
          "base_uri": "https://localhost:8080/",
          "height": 34
        },
        "outputId": "2f750fb0-c6a7-4cd8-c99d-848fb88e6e8a"
      },
      "source": [
        "le.classes_"
      ],
      "execution_count": 122,
      "outputs": [
        {
          "output_type": "execute_result",
          "data": {
            "text/plain": [
              "array(['BELLO', 'MEDELLÍN'], dtype=object)"
            ]
          },
          "metadata": {
            "tags": []
          },
          "execution_count": 122
        }
      ]
    },
    {
      "cell_type": "code",
      "metadata": {
        "id": "sOYhfRYf65Gx",
        "colab_type": "code",
        "colab": {}
      },
      "source": [
        "X2=data_out.drop(columns=[\"no_pago_ultimo\",\"unidades_ant\"]).values\n",
        "X=np.column_stack((X,X2))"
      ],
      "execution_count": 155,
      "outputs": []
    },
    {
      "cell_type": "code",
      "metadata": {
        "id": "DiYyaKuNSz5x",
        "colab_type": "code",
        "colab": {}
      },
      "source": [
        "### train & test partition\n",
        "\n",
        "from sklearn.model_selection import train_test_split\n",
        "###15% for testing, stratify by Y\n",
        "X_train,X_test,y_train,y_test=train_test_split(X,y,stratify=y,random_state=222,test_size=0.15)\n",
        "\n",
        "nrows,ncol=X_train.shape\n"
      ],
      "execution_count": 124,
      "outputs": []
    },
    {
      "cell_type": "markdown",
      "metadata": {
        "id": "S7Nz6xlxLlSC",
        "colab_type": "text"
      },
      "source": [
        "### Modelo:\n",
        "\n",
        "Esta red neuronal combina ambas fuentes de información (Comportamiento de los consumos de los últimos 12 meses y la información sociodemográfica)"
      ]
    },
    {
      "cell_type": "code",
      "metadata": {
        "id": "48tpbkSmAhF7",
        "colab_type": "code",
        "colab": {}
      },
      "source": [
        "X_train1=X_train[:,range(13)].reshape((-1,13,1))\n",
        "X_test1=X_test[:,range(13)].reshape((-1,13,1))\n",
        "\n",
        "X_train2=X_train[:,13::]\n",
        "X_test2=X_test[:,13::]"
      ],
      "execution_count": 125,
      "outputs": []
    },
    {
      "cell_type": "code",
      "metadata": {
        "id": "frNr0JZdVWLl",
        "colab_type": "code",
        "colab": {
          "base_uri": "https://localhost:8080/",
          "height": 34
        },
        "outputId": "22151c2f-9529-4134-e630-0e5969c90430"
      },
      "source": [
        "print(X_train1.shape,X_train2.shape)"
      ],
      "execution_count": 126,
      "outputs": [
        {
          "output_type": "stream",
          "text": [
            "(8500, 13, 1) (8500, 3)\n"
          ],
          "name": "stdout"
        }
      ]
    },
    {
      "cell_type": "code",
      "metadata": {
        "id": "6V16J4684eso",
        "colab_type": "code",
        "colab": {
          "base_uri": "https://localhost:8080/",
          "height": 1000
        },
        "outputId": "b2be642c-8f3e-4891-899e-6734ec8bbdc2"
      },
      "source": [
        "import tensorflow as tf\n",
        "from tensorflow.keras.models import Sequential,Model\n",
        "from tensorflow.keras.layers import LSTM,Dense,Flatten,Input,LeakyReLU,Conv1D,BatchNormalization,Dropout,Concatenate\n",
        "from tensorflow.keras.optimizers import Adam, SGD\n",
        "from tensorflow.keras.regularizers import l2,l1\n",
        "\n",
        "ncol=X_test1.shape[1]\n",
        "\n",
        "\n",
        "##mod1\n",
        "lstm_input = Input(shape=(ncol,1), name='encoder_input')\n",
        "x=LSTM(128,return_sequences=True)(lstm_input)\n",
        "x=LeakyReLU()(x)\n",
        "x=BatchNormalization()(x)\n",
        "x=LSTM(128,return_sequences=True)(x)\n",
        "x=Dropout(0.3)(x)\n",
        "x=LSTM(128,return_sequences=False)(x)\n",
        "x=LeakyReLU()(x)\n",
        "x=Dropout(0.3)(x)\n",
        "x=Dense(120)(x)\n",
        "x=LeakyReLU()(x)\n",
        "x=Dropout(0.3)(x)\n",
        "x=Dense(2,activation=\"linear\")(x)\n",
        "out_layer= Model(lstm_input, x,name=\"lstm\")\n",
        "\n",
        "##mod2\n",
        "\n",
        "mlp_input=Input(shape=(3,),name=\"input_mlp\")\n",
        "x2=Dense(50)(mlp_input)\n",
        "x2=LeakyReLU()(x2)\n",
        "x2=BatchNormalization()(x2)\n",
        "x2=Dense(10,activation=\"linear\")(x2)\n",
        "x2=Dense(2,activation=\"linear\")(x2)\n",
        "out_layer2=Model(mlp_input,x2,name=\"mlp\")\n",
        "\n",
        "\n",
        "combinedInput = Concatenate()([out_layer.output, out_layer2.output])\n",
        "z = Dense(100, activation=\"relu\")(combinedInput)\n",
        "z = Dense(2, activation=\"softmax\")(z)\n",
        "# our final model will accept categorical/numerical data on the MLP\n",
        "# input and images on the CNN input, outputting a single value (the\n",
        "# predicted price of the house)\n",
        "model = Model(inputs=[out_layer.input, out_layer2.input], outputs=z,name=\"stacking\")\n",
        "\n",
        "\n",
        "##ver resumen modelo\n",
        "print(out_layer.summary())\n",
        "print(\"=======================\")\n",
        "print(out_layer2.summary())\n",
        "print(\"=======================\")\n",
        "print(model.summary())"
      ],
      "execution_count": 127,
      "outputs": [
        {
          "output_type": "stream",
          "text": [
            "Model: \"lstm\"\n",
            "_________________________________________________________________\n",
            "Layer (type)                 Output Shape              Param #   \n",
            "=================================================================\n",
            "encoder_input (InputLayer)   [(None, 13, 1)]           0         \n",
            "_________________________________________________________________\n",
            "lstm_8 (LSTM)                (None, 13, 128)           66560     \n",
            "_________________________________________________________________\n",
            "leaky_re_lu_9 (LeakyReLU)    (None, 13, 128)           0         \n",
            "_________________________________________________________________\n",
            "batch_normalization_6 (Batch (None, 13, 128)           512       \n",
            "_________________________________________________________________\n",
            "lstm_9 (LSTM)                (None, 13, 128)           131584    \n",
            "_________________________________________________________________\n",
            "dropout_9 (Dropout)          (None, 13, 128)           0         \n",
            "_________________________________________________________________\n",
            "lstm_10 (LSTM)               (None, 128)               131584    \n",
            "_________________________________________________________________\n",
            "leaky_re_lu_10 (LeakyReLU)   (None, 128)               0         \n",
            "_________________________________________________________________\n",
            "dropout_10 (Dropout)         (None, 128)               0         \n",
            "_________________________________________________________________\n",
            "dense_16 (Dense)             (None, 120)               15480     \n",
            "_________________________________________________________________\n",
            "leaky_re_lu_11 (LeakyReLU)   (None, 120)               0         \n",
            "_________________________________________________________________\n",
            "dropout_11 (Dropout)         (None, 120)               0         \n",
            "_________________________________________________________________\n",
            "dense_17 (Dense)             (None, 2)                 242       \n",
            "=================================================================\n",
            "Total params: 345,962\n",
            "Trainable params: 345,706\n",
            "Non-trainable params: 256\n",
            "_________________________________________________________________\n",
            "None\n",
            "=======================\n",
            "Model: \"mlp\"\n",
            "_________________________________________________________________\n",
            "Layer (type)                 Output Shape              Param #   \n",
            "=================================================================\n",
            "input_mlp (InputLayer)       [(None, 3)]               0         \n",
            "_________________________________________________________________\n",
            "dense_18 (Dense)             (None, 50)                200       \n",
            "_________________________________________________________________\n",
            "leaky_re_lu_12 (LeakyReLU)   (None, 50)                0         \n",
            "_________________________________________________________________\n",
            "batch_normalization_7 (Batch (None, 50)                200       \n",
            "_________________________________________________________________\n",
            "dense_19 (Dense)             (None, 10)                510       \n",
            "_________________________________________________________________\n",
            "dense_20 (Dense)             (None, 2)                 22        \n",
            "=================================================================\n",
            "Total params: 932\n",
            "Trainable params: 832\n",
            "Non-trainable params: 100\n",
            "_________________________________________________________________\n",
            "None\n",
            "=======================\n",
            "Model: \"stacking\"\n",
            "__________________________________________________________________________________________________\n",
            "Layer (type)                    Output Shape         Param #     Connected to                     \n",
            "==================================================================================================\n",
            "encoder_input (InputLayer)      [(None, 13, 1)]      0                                            \n",
            "__________________________________________________________________________________________________\n",
            "lstm_8 (LSTM)                   (None, 13, 128)      66560       encoder_input[0][0]              \n",
            "__________________________________________________________________________________________________\n",
            "leaky_re_lu_9 (LeakyReLU)       (None, 13, 128)      0           lstm_8[0][0]                     \n",
            "__________________________________________________________________________________________________\n",
            "batch_normalization_6 (BatchNor (None, 13, 128)      512         leaky_re_lu_9[0][0]              \n",
            "__________________________________________________________________________________________________\n",
            "lstm_9 (LSTM)                   (None, 13, 128)      131584      batch_normalization_6[0][0]      \n",
            "__________________________________________________________________________________________________\n",
            "dropout_9 (Dropout)             (None, 13, 128)      0           lstm_9[0][0]                     \n",
            "__________________________________________________________________________________________________\n",
            "lstm_10 (LSTM)                  (None, 128)          131584      dropout_9[0][0]                  \n",
            "__________________________________________________________________________________________________\n",
            "leaky_re_lu_10 (LeakyReLU)      (None, 128)          0           lstm_10[0][0]                    \n",
            "__________________________________________________________________________________________________\n",
            "input_mlp (InputLayer)          [(None, 3)]          0                                            \n",
            "__________________________________________________________________________________________________\n",
            "dropout_10 (Dropout)            (None, 128)          0           leaky_re_lu_10[0][0]             \n",
            "__________________________________________________________________________________________________\n",
            "dense_18 (Dense)                (None, 50)           200         input_mlp[0][0]                  \n",
            "__________________________________________________________________________________________________\n",
            "dense_16 (Dense)                (None, 120)          15480       dropout_10[0][0]                 \n",
            "__________________________________________________________________________________________________\n",
            "leaky_re_lu_12 (LeakyReLU)      (None, 50)           0           dense_18[0][0]                   \n",
            "__________________________________________________________________________________________________\n",
            "leaky_re_lu_11 (LeakyReLU)      (None, 120)          0           dense_16[0][0]                   \n",
            "__________________________________________________________________________________________________\n",
            "batch_normalization_7 (BatchNor (None, 50)           200         leaky_re_lu_12[0][0]             \n",
            "__________________________________________________________________________________________________\n",
            "dropout_11 (Dropout)            (None, 120)          0           leaky_re_lu_11[0][0]             \n",
            "__________________________________________________________________________________________________\n",
            "dense_19 (Dense)                (None, 10)           510         batch_normalization_7[0][0]      \n",
            "__________________________________________________________________________________________________\n",
            "dense_17 (Dense)                (None, 2)            242         dropout_11[0][0]                 \n",
            "__________________________________________________________________________________________________\n",
            "dense_20 (Dense)                (None, 2)            22          dense_19[0][0]                   \n",
            "__________________________________________________________________________________________________\n",
            "concatenate_2 (Concatenate)     (None, 4)            0           dense_17[0][0]                   \n",
            "                                                                 dense_20[0][0]                   \n",
            "__________________________________________________________________________________________________\n",
            "dense_21 (Dense)                (None, 100)          500         concatenate_2[0][0]              \n",
            "__________________________________________________________________________________________________\n",
            "dense_22 (Dense)                (None, 2)            202         dense_21[0][0]                   \n",
            "==================================================================================================\n",
            "Total params: 347,596\n",
            "Trainable params: 347,240\n",
            "Non-trainable params: 356\n",
            "__________________________________________________________________________________________________\n",
            "None\n"
          ],
          "name": "stdout"
        }
      ]
    },
    {
      "cell_type": "code",
      "metadata": {
        "id": "gdW0G3BmJp6S",
        "colab_type": "code",
        "colab": {
          "base_uri": "https://localhost:8080/",
          "height": 443
        },
        "outputId": "ee51c85f-6729-48f7-f31d-4e51be2cf1fc"
      },
      "source": [
        "cb_f = tf.keras.callbacks.EarlyStopping(monitor='val_accuracy', patience=10,restore_best_weights=True) #set the best weights found at scoring on validation set\n",
        "opt = Adam(lr=1e-4)\n",
        "model.compile(metrics=['accuracy'],loss=tf.keras.losses.binary_crossentropy, optimizer=opt)\n",
        "\n",
        "print(\"[INFO] training model...\")\n",
        "model.fit(\n",
        "\tx=[X_train1,X_train2], y=y_train,\tvalidation_data=([X_test1,X_test2], y_test),\tepochs=50, batch_size=20,callbacks=[cb_f])\n"
      ],
      "execution_count": 128,
      "outputs": [
        {
          "output_type": "stream",
          "text": [
            "[INFO] training model...\n",
            "Epoch 1/50\n",
            "425/425 [==============================] - 25s 59ms/step - loss: 0.6932 - accuracy: 0.5040 - val_loss: 0.6931 - val_accuracy: 0.8947\n",
            "Epoch 2/50\n",
            "425/425 [==============================] - 23s 54ms/step - loss: 0.6931 - accuracy: 0.5240 - val_loss: 0.6931 - val_accuracy: 0.3340\n",
            "Epoch 3/50\n",
            "425/425 [==============================] - 22s 52ms/step - loss: 0.6931 - accuracy: 0.5068 - val_loss: 0.6931 - val_accuracy: 0.3893\n",
            "Epoch 4/50\n",
            "425/425 [==============================] - 25s 59ms/step - loss: 0.6931 - accuracy: 0.4924 - val_loss: 0.6931 - val_accuracy: 0.5327\n",
            "Epoch 5/50\n",
            "425/425 [==============================] - 21s 48ms/step - loss: 0.6931 - accuracy: 0.5038 - val_loss: 0.6931 - val_accuracy: 0.5113\n",
            "Epoch 6/50\n",
            "425/425 [==============================] - 20s 47ms/step - loss: 0.6931 - accuracy: 0.5102 - val_loss: 0.6931 - val_accuracy: 0.8347\n",
            "Epoch 7/50\n",
            "425/425 [==============================] - 22s 53ms/step - loss: 0.6931 - accuracy: 0.5094 - val_loss: 0.6931 - val_accuracy: 0.7360\n",
            "Epoch 8/50\n",
            "425/425 [==============================] - 22s 53ms/step - loss: 0.6931 - accuracy: 0.5100 - val_loss: 0.6931 - val_accuracy: 0.4040\n",
            "Epoch 9/50\n",
            "425/425 [==============================] - 22s 51ms/step - loss: 0.6931 - accuracy: 0.5029 - val_loss: 0.6931 - val_accuracy: 0.6380\n",
            "Epoch 10/50\n",
            "425/425 [==============================] - 20s 47ms/step - loss: 0.6931 - accuracy: 0.5064 - val_loss: 0.6931 - val_accuracy: 0.6533\n",
            "Epoch 11/50\n",
            "425/425 [==============================] - 21s 50ms/step - loss: 0.6931 - accuracy: 0.4966 - val_loss: 0.6931 - val_accuracy: 0.3753\n"
          ],
          "name": "stdout"
        },
        {
          "output_type": "execute_result",
          "data": {
            "text/plain": [
              "<tensorflow.python.keras.callbacks.History at 0x7f02e50c8f28>"
            ]
          },
          "metadata": {
            "tags": []
          },
          "execution_count": 128
        }
      ]
    },
    {
      "cell_type": "code",
      "metadata": {
        "id": "C90HxsZvNUgX",
        "colab_type": "code",
        "colab": {}
      },
      "source": [
        "predic_train=np.argmax(model.predict([X_train1,X_train2]),axis=1)\n",
        "predic_test=np.argmax(model.predict([X_test1,X_test2]),axis=1)"
      ],
      "execution_count": 129,
      "outputs": []
    },
    {
      "cell_type": "code",
      "metadata": {
        "id": "DEX048MMztXY",
        "colab_type": "code",
        "colab": {
          "base_uri": "https://localhost:8080/",
          "height": 230
        },
        "outputId": "05b78c25-dbba-49d4-d0b4-52c14cc3c8ef"
      },
      "source": [
        "## El modelo se comporta muy mal (es de esperarse puesto que la asignación de los no pagos fue determinística pero sólo en el último valor de consumo reportado. De seguro si sólo se usa el último valor y la información sociodemográfica, el modelo\n",
        "##se comportaría mejor, como veremos a continuación) Sin embargo este ejercicio sirve para involucrar diferentes fuentes de datos reales en el futuro.\n",
        "from collections import Counter\n",
        "Counter(predic_test)\n",
        "print(\"==TRAINING FINAL RESULTS==\")\n",
        "metrics(y_train,predic_train)\n",
        "print(\"==TESTING FINAL RESULTS==\")\n",
        "metrics(y_test,predic_test)"
      ],
      "execution_count": 130,
      "outputs": [
        {
          "output_type": "stream",
          "text": [
            "==TRAINING FINAL RESULTS==\n",
            " Accuracy:0.8846 \n",
            " Precision: 0.9991 \n",
            " Recall: 0.5388 \n",
            " Kappa: 0.6364 \n",
            " F1-Score: 0.7001 \n",
            "==TESTING FINAL RESULTS==\n",
            " Accuracy:0.8947 \n",
            " Precision: 0.9954 \n",
            " Recall: 0.5813 \n",
            " Kappa: 0.6739 \n",
            " F1-Score: 0.7340 \n"
          ],
          "name": "stdout"
        }
      ]
    },
    {
      "cell_type": "code",
      "metadata": {
        "id": "mmT1hCzqDScz",
        "colab_type": "code",
        "colab": {
          "base_uri": "https://localhost:8080/",
          "height": 958
        },
        "outputId": "d95ae624-5301-4f97-f530-b89a75dbe208"
      },
      "source": [
        "## Resumen del modelo y guardarlo en formato Tensorflow\n",
        "model.summary()\n",
        "model.save(\"stacking.h5\")"
      ],
      "execution_count": 158,
      "outputs": [
        {
          "output_type": "stream",
          "text": [
            "Model: \"stacking\"\n",
            "__________________________________________________________________________________________________\n",
            "Layer (type)                    Output Shape         Param #     Connected to                     \n",
            "==================================================================================================\n",
            "encoder_input (InputLayer)      [(None, 13, 1)]      0                                            \n",
            "__________________________________________________________________________________________________\n",
            "lstm_8 (LSTM)                   (None, 13, 128)      66560       encoder_input[0][0]              \n",
            "__________________________________________________________________________________________________\n",
            "leaky_re_lu_9 (LeakyReLU)       (None, 13, 128)      0           lstm_8[0][0]                     \n",
            "__________________________________________________________________________________________________\n",
            "batch_normalization_6 (BatchNor (None, 13, 128)      512         leaky_re_lu_9[0][0]              \n",
            "__________________________________________________________________________________________________\n",
            "lstm_9 (LSTM)                   (None, 13, 128)      131584      batch_normalization_6[0][0]      \n",
            "__________________________________________________________________________________________________\n",
            "dropout_9 (Dropout)             (None, 13, 128)      0           lstm_9[0][0]                     \n",
            "__________________________________________________________________________________________________\n",
            "lstm_10 (LSTM)                  (None, 128)          131584      dropout_9[0][0]                  \n",
            "__________________________________________________________________________________________________\n",
            "leaky_re_lu_10 (LeakyReLU)      (None, 128)          0           lstm_10[0][0]                    \n",
            "__________________________________________________________________________________________________\n",
            "input_mlp (InputLayer)          [(None, 3)]          0                                            \n",
            "__________________________________________________________________________________________________\n",
            "dropout_10 (Dropout)            (None, 128)          0           leaky_re_lu_10[0][0]             \n",
            "__________________________________________________________________________________________________\n",
            "dense_18 (Dense)                (None, 50)           200         input_mlp[0][0]                  \n",
            "__________________________________________________________________________________________________\n",
            "dense_16 (Dense)                (None, 120)          15480       dropout_10[0][0]                 \n",
            "__________________________________________________________________________________________________\n",
            "leaky_re_lu_12 (LeakyReLU)      (None, 50)           0           dense_18[0][0]                   \n",
            "__________________________________________________________________________________________________\n",
            "leaky_re_lu_11 (LeakyReLU)      (None, 120)          0           dense_16[0][0]                   \n",
            "__________________________________________________________________________________________________\n",
            "batch_normalization_7 (BatchNor (None, 50)           200         leaky_re_lu_12[0][0]             \n",
            "__________________________________________________________________________________________________\n",
            "dropout_11 (Dropout)            (None, 120)          0           leaky_re_lu_11[0][0]             \n",
            "__________________________________________________________________________________________________\n",
            "dense_19 (Dense)                (None, 10)           510         batch_normalization_7[0][0]      \n",
            "__________________________________________________________________________________________________\n",
            "dense_17 (Dense)                (None, 2)            242         dropout_11[0][0]                 \n",
            "__________________________________________________________________________________________________\n",
            "dense_20 (Dense)                (None, 2)            22          dense_19[0][0]                   \n",
            "__________________________________________________________________________________________________\n",
            "concatenate_2 (Concatenate)     (None, 4)            0           dense_17[0][0]                   \n",
            "                                                                 dense_20[0][0]                   \n",
            "__________________________________________________________________________________________________\n",
            "dense_21 (Dense)                (None, 100)          500         concatenate_2[0][0]              \n",
            "__________________________________________________________________________________________________\n",
            "dense_22 (Dense)                (None, 2)            202         dense_21[0][0]                   \n",
            "==================================================================================================\n",
            "Total params: 347,596\n",
            "Trainable params: 347,240\n",
            "Non-trainable params: 356\n",
            "__________________________________________________________________________________________________\n"
          ],
          "name": "stdout"
        }
      ]
    },
    {
      "cell_type": "code",
      "metadata": {
        "id": "2tS1051fg4RS",
        "colab_type": "code",
        "colab": {
          "base_uri": "https://localhost:8080/",
          "height": 70
        },
        "outputId": "05061345-10fa-4c3a-c4b4-fe61c47c673b"
      },
      "source": [
        "## zip file \n",
        "!zip \"stacking.zip\" stacking/*"
      ],
      "execution_count": 132,
      "outputs": [
        {
          "output_type": "stream",
          "text": [
            "updating: stacking/assets/ (stored 0%)\n",
            "updating: stacking/saved_model.pb (deflated 90%)\n",
            "updating: stacking/variables/ (stored 0%)\n"
          ],
          "name": "stdout"
        }
      ]
    },
    {
      "cell_type": "code",
      "metadata": {
        "id": "Spp3t3-Xsnv9",
        "colab_type": "code",
        "colab": {
          "base_uri": "https://localhost:8080/",
          "height": 958
        },
        "outputId": "85f04c8d-3782-4bed-f08b-746e5b9c4b97"
      },
      "source": [
        "#load model\n",
        "mod_loaded= tf.keras.models.load_model('stacking')\n",
        "mod_loaded.summary()"
      ],
      "execution_count": 134,
      "outputs": [
        {
          "output_type": "stream",
          "text": [
            "Model: \"stacking\"\n",
            "__________________________________________________________________________________________________\n",
            "Layer (type)                    Output Shape         Param #     Connected to                     \n",
            "==================================================================================================\n",
            "encoder_input (InputLayer)      [(None, 13, 1)]      0                                            \n",
            "__________________________________________________________________________________________________\n",
            "lstm_8 (LSTM)                   (None, 13, 128)      66560       encoder_input[0][0]              \n",
            "__________________________________________________________________________________________________\n",
            "leaky_re_lu_9 (LeakyReLU)       (None, 13, 128)      0           lstm_8[0][0]                     \n",
            "__________________________________________________________________________________________________\n",
            "batch_normalization_6 (BatchNor (None, 13, 128)      512         leaky_re_lu_9[0][0]              \n",
            "__________________________________________________________________________________________________\n",
            "lstm_9 (LSTM)                   (None, 13, 128)      131584      batch_normalization_6[0][0]      \n",
            "__________________________________________________________________________________________________\n",
            "dropout_9 (Dropout)             (None, 13, 128)      0           lstm_9[0][0]                     \n",
            "__________________________________________________________________________________________________\n",
            "lstm_10 (LSTM)                  (None, 128)          131584      dropout_9[0][0]                  \n",
            "__________________________________________________________________________________________________\n",
            "leaky_re_lu_10 (LeakyReLU)      (None, 128)          0           lstm_10[0][0]                    \n",
            "__________________________________________________________________________________________________\n",
            "input_mlp (InputLayer)          [(None, 3)]          0                                            \n",
            "__________________________________________________________________________________________________\n",
            "dropout_10 (Dropout)            (None, 128)          0           leaky_re_lu_10[0][0]             \n",
            "__________________________________________________________________________________________________\n",
            "dense_18 (Dense)                (None, 50)           200         input_mlp[0][0]                  \n",
            "__________________________________________________________________________________________________\n",
            "dense_16 (Dense)                (None, 120)          15480       dropout_10[0][0]                 \n",
            "__________________________________________________________________________________________________\n",
            "leaky_re_lu_12 (LeakyReLU)      (None, 50)           0           dense_18[0][0]                   \n",
            "__________________________________________________________________________________________________\n",
            "leaky_re_lu_11 (LeakyReLU)      (None, 120)          0           dense_16[0][0]                   \n",
            "__________________________________________________________________________________________________\n",
            "batch_normalization_7 (BatchNor (None, 50)           200         leaky_re_lu_12[0][0]             \n",
            "__________________________________________________________________________________________________\n",
            "dropout_11 (Dropout)            (None, 120)          0           leaky_re_lu_11[0][0]             \n",
            "__________________________________________________________________________________________________\n",
            "dense_19 (Dense)                (None, 10)           510         batch_normalization_7[0][0]      \n",
            "__________________________________________________________________________________________________\n",
            "dense_17 (Dense)                (None, 2)            242         dropout_11[0][0]                 \n",
            "__________________________________________________________________________________________________\n",
            "dense_20 (Dense)                (None, 2)            22          dense_19[0][0]                   \n",
            "__________________________________________________________________________________________________\n",
            "concatenate_2 (Concatenate)     (None, 4)            0           dense_17[0][0]                   \n",
            "                                                                 dense_20[0][0]                   \n",
            "__________________________________________________________________________________________________\n",
            "dense_21 (Dense)                (None, 100)          500         concatenate_2[0][0]              \n",
            "__________________________________________________________________________________________________\n",
            "dense_22 (Dense)                (None, 2)            202         dense_21[0][0]                   \n",
            "==================================================================================================\n",
            "Total params: 347,596\n",
            "Trainable params: 347,240\n",
            "Non-trainable params: 356\n",
            "__________________________________________________________________________________________________\n"
          ],
          "name": "stdout"
        }
      ]
    },
    {
      "cell_type": "code",
      "metadata": {
        "id": "nAVEZmFOBsGd",
        "colab_type": "code",
        "colab": {
          "base_uri": "https://localhost:8080/",
          "height": 34
        },
        "outputId": "530f748b-b04f-42b9-b7b3-637542c72dae"
      },
      "source": [
        "##Aplicar modelo para la base de datos simulada en su total\n",
        "\n",
        "X_1=X[:,range(13)].reshape((-1,13,1))\n",
        "X_2=X[:,13::]\n",
        "\n",
        "#estructura de la base de nuevo\n",
        "print(X_1[0].shape,X_2[0].shape)\n"
      ],
      "execution_count": 156,
      "outputs": [
        {
          "output_type": "stream",
          "text": [
            "(13, 1) (5,)\n"
          ],
          "name": "stdout"
        }
      ]
    },
    {
      "cell_type": "code",
      "metadata": {
        "id": "MZIKPBqhbjQ8",
        "colab_type": "code",
        "colab": {
          "base_uri": "https://localhost:8080/",
          "height": 958
        },
        "outputId": "4fa1fa85-dc64-46c8-86d1-bebf82f62180"
      },
      "source": [
        "mod_loaded.summary()"
      ],
      "execution_count": 109,
      "outputs": [
        {
          "output_type": "stream",
          "text": [
            "Model: \"stacking\"\n",
            "__________________________________________________________________________________________________\n",
            "Layer (type)                    Output Shape         Param #     Connected to                     \n",
            "==================================================================================================\n",
            "encoder_input (InputLayer)      [(None, 13, 1)]      0                                            \n",
            "__________________________________________________________________________________________________\n",
            "lstm (LSTM)                     (None, 13, 128)      66560       encoder_input[0][0]              \n",
            "__________________________________________________________________________________________________\n",
            "leaky_re_lu (LeakyReLU)         (None, 13, 128)      0           lstm[0][0]                       \n",
            "__________________________________________________________________________________________________\n",
            "batch_normalization (BatchNorma (None, 13, 128)      512         leaky_re_lu[0][0]                \n",
            "__________________________________________________________________________________________________\n",
            "lstm_1 (LSTM)                   (None, 13, 128)      131584      batch_normalization[0][0]        \n",
            "__________________________________________________________________________________________________\n",
            "dropout (Dropout)               (None, 13, 128)      0           lstm_1[0][0]                     \n",
            "__________________________________________________________________________________________________\n",
            "lstm_2 (LSTM)                   (None, 128)          131584      dropout[0][0]                    \n",
            "__________________________________________________________________________________________________\n",
            "leaky_re_lu_1 (LeakyReLU)       (None, 128)          0           lstm_2[0][0]                     \n",
            "__________________________________________________________________________________________________\n",
            "input_mlp (InputLayer)          [(None, 3)]          0                                            \n",
            "__________________________________________________________________________________________________\n",
            "dropout_1 (Dropout)             (None, 128)          0           leaky_re_lu_1[0][0]              \n",
            "__________________________________________________________________________________________________\n",
            "dense_2 (Dense)                 (None, 50)           200         input_mlp[0][0]                  \n",
            "__________________________________________________________________________________________________\n",
            "dense (Dense)                   (None, 120)          15480       dropout_1[0][0]                  \n",
            "__________________________________________________________________________________________________\n",
            "leaky_re_lu_3 (LeakyReLU)       (None, 50)           0           dense_2[0][0]                    \n",
            "__________________________________________________________________________________________________\n",
            "leaky_re_lu_2 (LeakyReLU)       (None, 120)          0           dense[0][0]                      \n",
            "__________________________________________________________________________________________________\n",
            "batch_normalization_1 (BatchNor (None, 50)           200         leaky_re_lu_3[0][0]              \n",
            "__________________________________________________________________________________________________\n",
            "dropout_2 (Dropout)             (None, 120)          0           leaky_re_lu_2[0][0]              \n",
            "__________________________________________________________________________________________________\n",
            "dense_3 (Dense)                 (None, 10)           510         batch_normalization_1[0][0]      \n",
            "__________________________________________________________________________________________________\n",
            "dense_1 (Dense)                 (None, 2)            242         dropout_2[0][0]                  \n",
            "__________________________________________________________________________________________________\n",
            "dense_4 (Dense)                 (None, 2)            22          dense_3[0][0]                    \n",
            "__________________________________________________________________________________________________\n",
            "concatenate (Concatenate)       (None, 4)            0           dense_1[0][0]                    \n",
            "                                                                 dense_4[0][0]                    \n",
            "__________________________________________________________________________________________________\n",
            "dense_5 (Dense)                 (None, 100)          500         concatenate[0][0]                \n",
            "__________________________________________________________________________________________________\n",
            "dense_6 (Dense)                 (None, 2)            202         dense_5[0][0]                    \n",
            "==================================================================================================\n",
            "Total params: 347,596\n",
            "Trainable params: 347,240\n",
            "Non-trainable params: 356\n",
            "__________________________________________________________________________________________________\n"
          ],
          "name": "stdout"
        }
      ]
    },
    {
      "cell_type": "code",
      "metadata": {
        "id": "hgxJQ6TrDCjT",
        "colab_type": "code",
        "colab": {}
      },
      "source": [
        "##exportar a csv\n",
        "data_out['cluster']=labels ## se añade el cluster obtenido \n",
        "#data_out['no_paga_sig_mes']=np.argmax(model.predict([X_1,X_2]),axis=1)\n",
        "##usar el modelo recién cargado\n",
        "data_out['no_paga_sig_mes']=np.argmax(mod_loaded.predict([X_1,X_2]),axis=1)\n",
        "data_out.to_csv(\"datos_gen.csv\",sep=\";\",decimal=\",\",index=False)"
      ],
      "execution_count": 137,
      "outputs": []
    },
    {
      "cell_type": "markdown",
      "metadata": {
        "id": "boxAZke3SiFD",
        "colab_type": "text"
      },
      "source": [
        "## Modelo Sencillo"
      ]
    },
    {
      "cell_type": "markdown",
      "metadata": {
        "id": "uu-5oUwH4aFG",
        "colab_type": "text"
      },
      "source": [
        "## Forecast de Recaudo a 3 meses\n",
        "\n",
        "Tendremos que pronosticar a 3 meses el valor de las unidades consumidas. Para \n",
        "ello se debe redefinir el problema y la base de entrenamiento\n"
      ]
    },
    {
      "cell_type": "code",
      "metadata": {
        "id": "CEt30popMvA2",
        "colab_type": "code",
        "colab": {
          "base_uri": "https://localhost:8080/",
          "height": 514
        },
        "outputId": "2a3cacaf-44cc-4450-ed9f-16ca846da4c1"
      },
      "source": [
        "#Retomando lo utilizado en secciones anteriores\n",
        "\n",
        "#NOTA: tomar en cuenta que en escenario real, la estandarización debe hacerse por individuo, con la base de entrenamiento, y aplicarla por aparte a los datos definidos en la ventana de testeo\n",
        "\n",
        "Z=unidades_ultim_12.values\n",
        "Z=std_day(Z)\n",
        "\n",
        "train=Z[:,range(10)]\n",
        "test=Z[:,[10,11,12]]\n",
        "\n",
        "#reshape data\n",
        "nr,nc=train.shape\n",
        "train=train.reshape((-1,nc,1))\n",
        "#test=test.reshape((-1,nc,1))\n",
        "\n",
        "#como no haremos modelos con diferente output, podemos usar una estructura secuencial en Keras\n",
        "\n",
        "forec=Sequential(name=\"forecast_lstm\")\n",
        "forec.add(LSTM(120,input_shape=(nc,1),return_sequences=True))\n",
        "forec.add(Dropout(0.3))\n",
        "forec.add(BatchNormalization())\n",
        "forec.add(LSTM(64,input_shape=(nc,1),return_sequences=False))\n",
        "forec.add(Dropout(0.3))\n",
        "forec.add(BatchNormalization())\n",
        "forec.add(Dense(120))\n",
        "forec.add(LeakyReLU())\n",
        "forec.add(Dropout(0.2))\n",
        "forec.add(Dense(3,activation=\"linear\"))\n",
        "\n",
        "forec.summary()\n"
      ],
      "execution_count": 148,
      "outputs": [
        {
          "output_type": "stream",
          "text": [
            "Model: \"forecast_lstm\"\n",
            "_________________________________________________________________\n",
            "Layer (type)                 Output Shape              Param #   \n",
            "=================================================================\n",
            "lstm_11 (LSTM)               (None, 10, 120)           58560     \n",
            "_________________________________________________________________\n",
            "dropout_12 (Dropout)         (None, 10, 120)           0         \n",
            "_________________________________________________________________\n",
            "batch_normalization_8 (Batch (None, 10, 120)           480       \n",
            "_________________________________________________________________\n",
            "lstm_12 (LSTM)               (None, 64)                47360     \n",
            "_________________________________________________________________\n",
            "dropout_13 (Dropout)         (None, 64)                0         \n",
            "_________________________________________________________________\n",
            "batch_normalization_9 (Batch (None, 64)                256       \n",
            "_________________________________________________________________\n",
            "dense_23 (Dense)             (None, 120)               7800      \n",
            "_________________________________________________________________\n",
            "leaky_re_lu_13 (LeakyReLU)   (None, 120)               0         \n",
            "_________________________________________________________________\n",
            "dropout_14 (Dropout)         (None, 120)               0         \n",
            "_________________________________________________________________\n",
            "dense_24 (Dense)             (None, 3)                 363       \n",
            "=================================================================\n",
            "Total params: 114,819\n",
            "Trainable params: 114,451\n",
            "Non-trainable params: 368\n",
            "_________________________________________________________________\n"
          ],
          "name": "stdout"
        }
      ]
    },
    {
      "cell_type": "code",
      "metadata": {
        "id": "zGP4fPid069D",
        "colab_type": "code",
        "colab": {
          "base_uri": "https://localhost:8080/",
          "height": 1000
        },
        "outputId": "c4b51a92-627b-4d75-8525-140874254fc7"
      },
      "source": [
        "##training\n",
        "## Se debe comparar con otros métodos de forecasting\n",
        "\n",
        "from tensorflow.keras.callbacks import EarlyStopping\n",
        "\n",
        "cb_reg = EarlyStopping(monitor='mse', patience=10,restore_best_weights=True) #set the best weights found at scoring on validation set\n",
        "opt = Adam(lr=1e-4)\n",
        "forec.compile(metrics=['mse'],loss='mse', optimizer=opt)\n",
        "\n",
        "print(\"[INFO] training model...\")\n",
        "forec.fit(x=train, y=test,epochs=50, batch_size=20,callbacks=[cb_reg])\n"
      ],
      "execution_count": 66,
      "outputs": [
        {
          "output_type": "stream",
          "text": [
            "[INFO] training model...\n",
            "Epoch 1/50\n",
            "500/500 [==============================] - 8s 15ms/step - loss: 0.8180 - mse: 0.8180\n",
            "Epoch 2/50\n",
            "500/500 [==============================] - 8s 15ms/step - loss: 0.5961 - mse: 0.5961\n",
            "Epoch 3/50\n",
            "500/500 [==============================] - 8s 15ms/step - loss: 0.5362 - mse: 0.5362\n",
            "Epoch 4/50\n",
            "500/500 [==============================] - 8s 15ms/step - loss: 0.5056 - mse: 0.5056\n",
            "Epoch 5/50\n",
            "500/500 [==============================] - 8s 15ms/step - loss: 0.4911 - mse: 0.4911\n",
            "Epoch 6/50\n",
            "500/500 [==============================] - 8s 15ms/step - loss: 0.4757 - mse: 0.4757\n",
            "Epoch 7/50\n",
            "500/500 [==============================] - 7s 15ms/step - loss: 0.4612 - mse: 0.4612\n",
            "Epoch 8/50\n",
            "500/500 [==============================] - 7s 15ms/step - loss: 0.4570 - mse: 0.4570\n",
            "Epoch 9/50\n",
            "500/500 [==============================] - 7s 15ms/step - loss: 0.4502 - mse: 0.4502\n",
            "Epoch 10/50\n",
            "500/500 [==============================] - 7s 15ms/step - loss: 0.4408 - mse: 0.4408\n",
            "Epoch 11/50\n",
            "500/500 [==============================] - 7s 15ms/step - loss: 0.4406 - mse: 0.4406\n",
            "Epoch 12/50\n",
            "500/500 [==============================] - 7s 15ms/step - loss: 0.4331 - mse: 0.4331\n",
            "Epoch 13/50\n",
            "500/500 [==============================] - 7s 15ms/step - loss: 0.4263 - mse: 0.4263\n",
            "Epoch 14/50\n",
            "500/500 [==============================] - 7s 15ms/step - loss: 0.4274 - mse: 0.4274\n",
            "Epoch 15/50\n",
            "500/500 [==============================] - 7s 15ms/step - loss: 0.4218 - mse: 0.4218\n",
            "Epoch 16/50\n",
            "500/500 [==============================] - 7s 15ms/step - loss: 0.4180 - mse: 0.4180\n",
            "Epoch 17/50\n",
            "500/500 [==============================] - 7s 15ms/step - loss: 0.4174 - mse: 0.4174\n",
            "Epoch 18/50\n",
            "500/500 [==============================] - 8s 15ms/step - loss: 0.4103 - mse: 0.4103\n",
            "Epoch 19/50\n",
            "500/500 [==============================] - 7s 15ms/step - loss: 0.4075 - mse: 0.4075\n",
            "Epoch 20/50\n",
            "500/500 [==============================] - 7s 15ms/step - loss: 0.4027 - mse: 0.4027\n",
            "Epoch 21/50\n",
            "500/500 [==============================] - 7s 15ms/step - loss: 0.3962 - mse: 0.3962\n",
            "Epoch 22/50\n",
            "500/500 [==============================] - 7s 15ms/step - loss: 0.3924 - mse: 0.3924\n",
            "Epoch 23/50\n",
            "500/500 [==============================] - 7s 15ms/step - loss: 0.3867 - mse: 0.3867\n",
            "Epoch 24/50\n",
            "500/500 [==============================] - 7s 15ms/step - loss: 0.3807 - mse: 0.3807\n",
            "Epoch 25/50\n",
            "500/500 [==============================] - 7s 15ms/step - loss: 0.3761 - mse: 0.3761\n",
            "Epoch 26/50\n",
            "500/500 [==============================] - 7s 15ms/step - loss: 0.3706 - mse: 0.3706\n",
            "Epoch 27/50\n",
            "500/500 [==============================] - 7s 15ms/step - loss: 0.3611 - mse: 0.3611\n",
            "Epoch 28/50\n",
            "500/500 [==============================] - 7s 15ms/step - loss: 0.3589 - mse: 0.3589\n",
            "Epoch 29/50\n",
            "500/500 [==============================] - 8s 15ms/step - loss: 0.3547 - mse: 0.3547\n",
            "Epoch 30/50\n",
            "500/500 [==============================] - 7s 15ms/step - loss: 0.3478 - mse: 0.3478\n",
            "Epoch 31/50\n",
            "500/500 [==============================] - 8s 16ms/step - loss: 0.3469 - mse: 0.3469\n",
            "Epoch 32/50\n",
            "500/500 [==============================] - 8s 15ms/step - loss: 0.3413 - mse: 0.3413\n",
            "Epoch 33/50\n",
            "500/500 [==============================] - 8s 16ms/step - loss: 0.3360 - mse: 0.3360\n",
            "Epoch 34/50\n",
            "500/500 [==============================] - 8s 16ms/step - loss: 0.3330 - mse: 0.3330\n",
            "Epoch 35/50\n",
            "500/500 [==============================] - 7s 15ms/step - loss: 0.3281 - mse: 0.3281\n",
            "Epoch 36/50\n",
            "500/500 [==============================] - 8s 15ms/step - loss: 0.3274 - mse: 0.3274\n",
            "Epoch 37/50\n",
            "500/500 [==============================] - 8s 15ms/step - loss: 0.3251 - mse: 0.3251\n",
            "Epoch 38/50\n",
            "500/500 [==============================] - 7s 15ms/step - loss: 0.3182 - mse: 0.3182\n",
            "Epoch 39/50\n",
            "500/500 [==============================] - 8s 15ms/step - loss: 0.3144 - mse: 0.3144\n",
            "Epoch 40/50\n",
            "500/500 [==============================] - 8s 15ms/step - loss: 0.3116 - mse: 0.3116\n",
            "Epoch 41/50\n",
            "500/500 [==============================] - 7s 15ms/step - loss: 0.3080 - mse: 0.3080\n",
            "Epoch 42/50\n",
            "500/500 [==============================] - 7s 15ms/step - loss: 0.3089 - mse: 0.3089\n",
            "Epoch 43/50\n",
            "500/500 [==============================] - 7s 15ms/step - loss: 0.3004 - mse: 0.3004\n",
            "Epoch 44/50\n",
            "500/500 [==============================] - 8s 15ms/step - loss: 0.3009 - mse: 0.3009\n",
            "Epoch 45/50\n",
            "500/500 [==============================] - 7s 15ms/step - loss: 0.3021 - mse: 0.3021\n",
            "Epoch 46/50\n",
            "500/500 [==============================] - 8s 15ms/step - loss: 0.2980 - mse: 0.2980\n",
            "Epoch 47/50\n",
            "500/500 [==============================] - 8s 15ms/step - loss: 0.2956 - mse: 0.2956\n",
            "Epoch 48/50\n",
            "500/500 [==============================] - 7s 15ms/step - loss: 0.2895 - mse: 0.2895\n",
            "Epoch 49/50\n",
            "500/500 [==============================] - 7s 15ms/step - loss: 0.2922 - mse: 0.2922\n",
            "Epoch 50/50\n",
            "500/500 [==============================] - 7s 15ms/step - loss: 0.2888 - mse: 0.2888\n"
          ],
          "name": "stdout"
        },
        {
          "output_type": "execute_result",
          "data": {
            "text/plain": [
              "<tensorflow.python.keras.callbacks.History at 0x7f02e9e78630>"
            ]
          },
          "metadata": {
            "tags": []
          },
          "execution_count": 66
        }
      ]
    },
    {
      "cell_type": "code",
      "metadata": {
        "id": "9P2UwK6E4fDL",
        "colab_type": "code",
        "colab": {}
      },
      "source": [
        "np.mean(np.mean((forec.predict(train)-test)**2,axis=1))\n",
        "forec.save(\"forec.h5\")\n",
        "#!zip \"forec.zip\" forec/*"
      ],
      "execution_count": 159,
      "outputs": []
    },
    {
      "cell_type": "code",
      "metadata": {
        "id": "ZjgAdebi2cP7",
        "colab_type": "code",
        "colab": {}
      },
      "source": [
        "##load model saved in .pb format\n",
        "forec_load= tf.keras.models.load_model('forec')"
      ],
      "execution_count": 140,
      "outputs": []
    },
    {
      "cell_type": "code",
      "metadata": {
        "id": "hhSar-Kv8eFK",
        "colab_type": "code",
        "colab": {}
      },
      "source": [
        "##FORECAST WITH TRAIN DATA\n",
        "forecast=forec_load.predict(train)\n",
        "\n",
        "##FORECAST FOR THE NEXT 3 MONTHS\n",
        "##los últimos 10 meses para hacer forecast en los próximos 3\n",
        "newdata=(Z[:,3:]).reshape((-1,10,1))\n",
        "forecast_new=forec_load.predict(newdata)\n",
        "\n",
        "values=unidades_ultim_12.apply(lambda x: [np.mean(x),np.std(x)],axis=1).to_dict()\n",
        "##reconstruct original data\n",
        "\n",
        "forecast_new=[(forecast_new[i]*values[i][1])+values[i][0] for i in range(len(forecast_new))]"
      ],
      "execution_count": 151,
      "outputs": []
    },
    {
      "cell_type": "code",
      "metadata": {
        "id": "-HTHJ-Ki88X1",
        "colab_type": "code",
        "colab": {}
      },
      "source": [
        "forecast_new=pd.DataFrame(np.reshape(forecast_new,(-1,3)),columns=[\"mes_t-1\",\"mes_t-2\",\"mes_t-3\"])\n",
        "datos_consumo=pd.concat((unidades_ultim_12,forecast_new),axis=1)\n",
        "datos_consumo.to_csv(\"consumos.csv\",sep=\";\",decimal=\",\",index=False)"
      ],
      "execution_count": 153,
      "outputs": []
    },
    {
      "cell_type": "code",
      "metadata": {
        "id": "MrAYBZYu_pX3",
        "colab_type": "code",
        "colab": {}
      },
      "source": [
        ""
      ],
      "execution_count": 164,
      "outputs": []
    }
  ]
}